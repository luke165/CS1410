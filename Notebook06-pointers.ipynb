{
  "cells": [
    {
      "cell_type": "markdown",
      "metadata": {
        "id": "2kcfjRfUFbCo"
      },
      "source": [
        "<a target=\"_blank\" href=\"https://colab.research.google.com/github/WSU-CS1410-AA/cs1410-notebooks/blob/main/Notebook06-pointers.ipynb\">\n",
        "  <img src=\"https://colab.research.google.com/assets/colab-badge.svg\" alt=\"Open In Colab\"/>\n",
        "</a>"
      ]
    },
    {
      "cell_type": "markdown",
      "metadata": {
        "id": "zGv8Y2ixFbC1"
      },
      "source": [
        "# Pointers\n",
        "\n",
        "One of the most powerful and low-level features of C++ is its support for **pointers**, which was inherited from the C language. To see how they work, let's start by defining a simple variable:\n",
        "\n",
        "```cpp\n",
        "double num = 25.4;\n",
        "```"
      ]
    },
    {
      "cell_type": "markdown",
      "metadata": {
        "id": "3XCPPTQWFbC8"
      },
      "source": [
        "This variable has the value `25.4` which is stored somewhere in memory. The variable name `num` is the label (or handle) we get to use to access this value without worrying about the actual memory address of this value. But C++ allows us to get the actual memory address where the value `25.4` is located and use that to access it.\n",
        "\n",
        "Memory addresses are typically 8-byte integers pointing to actual locations in memory. These addresses can be saved into variables as if they are regular values. **A pointer is a variable whose value is a memory address**. In other words, in C++:\n",
        "* actual memory addresses can be assigned to pointers.\n",
        "* a pointer cannot only take a memory address as value.\n",
        "\n",
        "So what is the actual memory address of the above `num` variable? Well, we can get that by placing an ampersand `&` immediately in front of the variable name like this:\n",
        "\n",
        "```cpp\n",
        "&num\n",
        "```"
      ]
    },
    {
      "cell_type": "markdown",
      "metadata": {
        "id": "V7u1SHdKFbC_"
      },
      "source": [
        "This `&` operator is called the **address of** operator; it returns the actual memory address of the variable after it. Given these variables, for instance:\n",
        "\n",
        "```cpp\n",
        "int var1 = 11;\n",
        "int var2 = 22;\n",
        "int var3 = 33;\n",
        "double dvar = 45.78;\n",
        "```"
      ]
    },
    {
      "cell_type": "markdown",
      "metadata": {
        "id": "0cMxegYSFbC_"
      },
      "source": [
        "We can obtain their memory addresses using the **address of operator** `&` like this:\n",
        "\n",
        "```cpp\n",
        "cout << &var1 << endl\n",
        "     << &var2 << endl    \n",
        "     << &var3 << endl\n",
        "     << &dvar << endl;\n",
        "```"
      ]
    },
    {
      "cell_type": "markdown",
      "metadata": {
        "id": "yH1P24-QFbDC"
      },
      "source": [
        "Notice that the **address of operator** `&` applies to existing (already defined) variables. It cannot be applied to values. For example, the following line in incorrect and causes errors.\n",
        "\n",
        "```cpp\n",
        "&10.5\n",
        "```"
      ]
    },
    {
      "cell_type": "markdown",
      "metadata": {
        "id": "dQn0M4J7FbDD"
      },
      "source": [
        "## Pointers vs references\n",
        "\n",
        "We must not confuse the **address of operator** with references. Both use the ampersand character `&` but:\n",
        "* in the case of the **address of operator**, `&` comes in front of an already defined variable to get its memory address.\n",
        "* in the case of references, `&` follows the data type during the definition of a reference variable.\n",
        "\n",
        "For example, the following are references:\n",
        "\n",
        "```cpp\n",
        "// References\n",
        "int &var1_ref = var1;\n",
        "double &num_ref = num;\n",
        "```"
      ]
    },
    {
      "cell_type": "markdown",
      "metadata": {
        "id": "NUJRH6cCFbDH"
      },
      "source": [
        "Notice how `&` is used to define two new reference variables (`var1_ref` and `num_ref`) which are aliases of different names for `var1` and `num` respectively.\n",
        "\n",
        "Compare that to the following:\n",
        "\n",
        "```cpp\n",
        "// Address of\n",
        "cout << &var1 << endl;\n",
        "cout << &num << endl;\n",
        "```"
      ]
    },
    {
      "cell_type": "markdown",
      "metadata": {
        "id": "2MkteFviFbDJ"
      },
      "source": [
        "in which address of `&` operators precede the already defined variables `var1` and `num`.\n",
        "\n",
        "## Dereferencing pointers\n",
        "\n",
        "As stated above, a pointer is a variable whose value is a memory address. We use the asterisk `*` operator to define pointers. For example:\n",
        "\n",
        "```cpp\n",
        "// Pointer definition: Notice the use of * after the data type\n",
        "int *iptr;    // A pointer to a location that holds an integer\n",
        "double* dptr; // A pointer to a location that holds a double\n",
        "char * ptr;   // A pointer to a location that holds a character\n",
        "```"
      ]
    },
    {
      "cell_type": "markdown",
      "metadata": {
        "id": "PPTWGSocFbDL"
      },
      "source": [
        "The above pointers are not initialized yet. It’s extremely important that every pointer is initialized before it is used. That could happen by assigning the pointer the address of an existing variable using the **address of operator**.\n",
        "\n",
        "```cpp\n",
        "iptr = &var1;\n",
        "dptr = &dvar;\n",
        "```"
      ]
    },
    {
      "cell_type": "markdown",
      "metadata": {
        "id": "sevDE-VnFbDN"
      },
      "source": [
        "That means that the actual memory address of the `var1` variable is stored under (or pointed to by) the `iptr` pointer, while the memory address of the `dvar` variable is stored under the `dptr` pointer.\n",
        "\n",
        "## The null pointer (`nullptr`)\n",
        "\n",
        "The general rule of thumb is that a pointer must always point to a valid memory location or is assigned the `nullptr` value. The above `ptr` pointer has nowhere to point to, so it should be initialized to `nullptr`.\n",
        "\n",
        "```cpp\n",
        "ptr = nullptr;\n",
        "```"
      ]
    },
    {
      "cell_type": "markdown",
      "metadata": {
        "id": "BfnwUvhbFbDO"
      },
      "source": [
        "The keyword `nullptr` was added by C++11 and should be used instead of the C constant `NULL` you might see in legacy C++ code.\n",
        "\n",
        "Once we have a pointer, we can use the asterisk `*` as a **dereference operator** in front of the pointer to retrieve or change the actual value it points to. For example, having `cptr` point to `choice`, we can use `*cptr` to print and change the value of `choice`. For example, the code:\n",
        "\n",
        "```cpp\n",
        "char choice = 'A';\n",
        "char *cptr = &choice;\n",
        "\n",
        "cout << *cptr << endl;\n",
        "*cptr = 'Z';\n",
        "cout << choice;\n",
        "```\n",
        "\n",
        "should print:\n",
        "\n",
        "```txt\n",
        "A\n",
        "Z\n",
        "```"
      ]
    },
    {
      "cell_type": "markdown",
      "metadata": {
        "id": "rLhKvDfJFbDP"
      },
      "source": [
        "To put it all together, we can use references and pointers as alternatives to accessing the values of variables. Consider the following string variable:"
      ]
    },
    {
      "cell_type": "code",
      "execution_count": null,
      "metadata": {
        "id": "m5hIw3zqFbDP",
        "outputId": "b7a824a5-8b42-4159-ee35-d2e8de48900a",
        "colab": {
          "base_uri": "https://localhost:8080/"
        }
      },
      "outputs": [
        {
          "output_type": "stream",
          "name": "stdout",
          "text": [
            "Overwriting ex01.cpp\n"
          ]
        }
      ],
      "source": [
        "%%writefile ex01.cpp\n",
        "\n",
        "#include <iostream>\n",
        "#include <iomanip>\n",
        "#include <string>\n",
        "using namespace std;\n",
        "\n",
        "int main() {\n",
        "  string message = \"Welcome!\";\n"
      ]
    },
    {
      "cell_type": "markdown",
      "metadata": {
        "id": "vJehdpfUFbDQ"
      },
      "source": [
        "We can create an alias name (a reference) for this variable and a pointer storing its actual memory address like this:"
      ]
    },
    {
      "cell_type": "code",
      "execution_count": null,
      "metadata": {
        "id": "2DPHrKUlFbDR",
        "outputId": "44d102b4-8265-43f5-85ad-b546d7e4be2c",
        "colab": {
          "base_uri": "https://localhost:8080/"
        }
      },
      "outputs": [
        {
          "output_type": "stream",
          "name": "stdout",
          "text": [
            "Appending to ex01.cpp\n"
          ]
        }
      ],
      "source": [
        "%%writefile -a ex01.cpp\n",
        "\n",
        "string &msg = message; // a reference\n",
        "string *sptr = &message; // a pointer"
      ]
    },
    {
      "cell_type": "markdown",
      "metadata": {
        "id": "GDbsji7oFbDS"
      },
      "source": [
        "Having done that, we now have three ways to access the value of this message:\n",
        "* Using the variable itself:"
      ]
    },
    {
      "cell_type": "code",
      "execution_count": null,
      "metadata": {
        "id": "xa9Qgyu-FbDS",
        "outputId": "3366a47e-ff1a-4e64-ae7b-2ce2525d5c7c",
        "colab": {
          "base_uri": "https://localhost:8080/"
        }
      },
      "outputs": [
        {
          "output_type": "stream",
          "name": "stdout",
          "text": [
            "Appending to ex01.cpp\n"
          ]
        }
      ],
      "source": [
        "%%writefile -a ex01.cpp\n",
        "\n",
        "cout << message << endl;"
      ]
    },
    {
      "cell_type": "markdown",
      "metadata": {
        "id": "29wamHLzFbDT"
      },
      "source": [
        "* Using its reference `msg`:"
      ]
    },
    {
      "cell_type": "code",
      "execution_count": null,
      "metadata": {
        "id": "nd_imnn9FbDV",
        "outputId": "399ac6b4-a9ee-4636-c7c0-d1e3ed7b7a79",
        "colab": {
          "base_uri": "https://localhost:8080/"
        }
      },
      "outputs": [
        {
          "output_type": "stream",
          "name": "stdout",
          "text": [
            "Appending to ex01.cpp\n"
          ]
        }
      ],
      "source": [
        "%%writefile -a ex01.cpp\n",
        "\n",
        "cout << msg << endl;"
      ]
    },
    {
      "cell_type": "markdown",
      "metadata": {
        "id": "9Cf1qZ2eFbDX"
      },
      "source": [
        "* And finally using it pointer `sptr`:"
      ]
    },
    {
      "cell_type": "code",
      "execution_count": null,
      "metadata": {
        "id": "WpAx0BCTFbDb",
        "outputId": "f3b0d2dd-ede4-4cf7-9263-8d0dc240a14f",
        "colab": {
          "base_uri": "https://localhost:8080/"
        }
      },
      "outputs": [
        {
          "output_type": "stream",
          "name": "stdout",
          "text": [
            "Appending to ex01.cpp\n"
          ]
        }
      ],
      "source": [
        "%%writefile -a ex01.cpp\n",
        "\n",
        "  cout << *sptr << endl;\n",
        "\n",
        "  return 0;\n",
        "}"
      ]
    },
    {
      "cell_type": "markdown",
      "source": [
        "Let's compile and run this program:"
      ],
      "metadata": {
        "id": "r-IPzW8hKHjp"
      }
    },
    {
      "cell_type": "code",
      "source": [
        "!g++ -std=c++17 ex01.cpp -o ex01\n",
        "!./ex01"
      ],
      "metadata": {
        "id": "qkmDGNisKSEF",
        "outputId": "c156ffac-fb6d-4b9a-cee1-ffc7fb5c2dc9",
        "colab": {
          "base_uri": "https://localhost:8080/"
        }
      },
      "execution_count": null,
      "outputs": [
        {
          "output_type": "stream",
          "name": "stdout",
          "text": [
            "Welcome!\n",
            "Welcome!\n",
            "Welcome!\n"
          ]
        }
      ]
    },
    {
      "cell_type": "markdown",
      "metadata": {
        "id": "ZkknejyCFbDc"
      },
      "source": [
        "Again, notice, in the case of pointers, the use of the dereference `*` operator before the pointer name. This is because `sptr` stores the actual memory address and therefore has to be dereferenced to the value stored at that location.\n",
        "\n",
        "You might ask why we need pointers if we can use variables instead to read and write to memory. The answer to that is:\n",
        "* Variables are good when you know how much memory your program needs ahead of time, but most of the time we don't know that. We, therefore, need the ability to request memory from the operating system dynamically. Pointers are the only way to do that. We will see how to do that later on\n",
        "* Pointers are critical to implementing certain C++ facilities like arrays.\n",
        "* Pointers can be used for passing arguments to functions."
      ]
    },
    {
      "cell_type": "markdown",
      "metadata": {
        "id": "WdG0MBRdFbDd"
      },
      "source": [
        "## CODING CHALLENGE 1\n",
        "Using the given variables, complete the following program by completing its TODO tasks:"
      ]
    },
    {
      "cell_type": "code",
      "execution_count": 13,
      "metadata": {
        "id": "IwUcCnlUFbDe",
        "outputId": "9bbf88ae-df5f-4365-cada-b430f9060806",
        "colab": {
          "base_uri": "https://localhost:8080/"
        }
      },
      "outputs": [
        {
          "output_type": "stream",
          "name": "stdout",
          "text": [
            "Overwriting ch01.cpp\n"
          ]
        }
      ],
      "source": [
        "%%writefile ch01.cpp\n",
        "\n",
        "#include <iostream>\n",
        "#include <iomanip>\n",
        "#include <string>\n",
        "using namespace std;\n",
        "\n",
        "int main() {\n",
        "  string greeting = \"Good afternoon!\";\n",
        "  short height = 39;\n",
        "  double distance1 = 21.07;\n",
        "  int count1 = 99;\n",
        "\n",
        "  // TODO: Define a pointer for each one of the above variables. Initialize\n",
        "  //       each pointer to the memory address of its variable:\n",
        "  string *sptr;\n",
        "  short *shptr;\n",
        "  double *dptr;\n",
        "  int *iptr;\n",
        "\n",
        "  sptr = &greeting;\n",
        "  shptr = &height;\n",
        "  dptr = &distance1;\n",
        "  iptr = &count1;\n",
        "\n",
        "\n",
        "\n",
        "  // TODO: Using the pointers above and the dereference operator *, change the\n",
        "  //       values of these variables to something else of your choosing:\n",
        "  *sptr = \"おはようございます\";\n",
        "  *shptr = 193;\n",
        "  *dptr = 26.5;\n",
        "  *iptr = 100;\n",
        "\n",
        "\n",
        "\n",
        "\n",
        "  // TODO: Using dereference operator *, print out the new values of these\n",
        "  //       variables:\n",
        "  cout << *sptr << '\\n' << *shptr <<'\\n' << *dptr << '\\n' << *iptr << endl;\n",
        "\n",
        "\n",
        "  return 0;\n",
        "}"
      ]
    },
    {
      "cell_type": "code",
      "source": [
        "!g++ -std=c++17 ch01.cpp -o ch01\n",
        "!./ch01"
      ],
      "metadata": {
        "id": "HYn0wsTtMGfT",
        "outputId": "90a75d8e-2de8-4268-d823-a3ddf9f00517",
        "colab": {
          "base_uri": "https://localhost:8080/"
        }
      },
      "execution_count": 14,
      "outputs": [
        {
          "output_type": "stream",
          "name": "stdout",
          "text": [
            "おはようございます\n",
            "193\n",
            "26.5\n",
            "100\n"
          ]
        }
      ]
    },
    {
      "cell_type": "markdown",
      "metadata": {
        "id": "GYbXDHHfFbDk"
      },
      "source": [
        "## Array names as constant pointers\n",
        "One of the C++ facilities implemented using pointers is arrays. In fact, an array name is simply a pointer storing the memory address of (or pointing to) the first element. Here is an array named `primes` along with a `for` loop to iterate over and print its elements."
      ]
    },
    {
      "cell_type": "code",
      "execution_count": null,
      "metadata": {
        "id": "_WV4_VWlFbDl",
        "outputId": "1f8833fe-d163-43f0-9abd-1a6a8265da96",
        "colab": {
          "base_uri": "https://localhost:8080/"
        }
      },
      "outputs": [
        {
          "output_type": "stream",
          "name": "stdout",
          "text": [
            "Overwriting ex02.cpp\n"
          ]
        }
      ],
      "source": [
        "%%writefile ex02.cpp\n",
        "\n",
        "#include <iostream>\n",
        "#include <iomanip>\n",
        "using namespace std;\n",
        "\n",
        "int main() {\n",
        "  int primes[] = {2, 3, 5, 7};\n",
        "  for(int i = 0; i < 4; i++){\n",
        "      cout << primes[i] << endl;\n",
        "  }\n",
        "\n",
        "  cout << endl;"
      ]
    },
    {
      "cell_type": "markdown",
      "metadata": {
        "id": "AmcbzkUhFbDl"
      },
      "source": [
        "Here the array name `primes` points to the first element of the array, which is the element at index 0, `primes + 1` (which means the next memory location) points to the second element in the array, `primes + 2` to the third and so on.\n",
        "\n",
        "Here is another `for` loop that takes advantage of this fact and prints the elements of this array along with their memory locations. Notice the use of the **dereference operator** `*` to print the actual values."
      ]
    },
    {
      "cell_type": "code",
      "execution_count": 15,
      "metadata": {
        "id": "9l--4CpNFbDl",
        "outputId": "9a9f1acf-71cb-4ef2-d603-064024e263e6",
        "colab": {
          "base_uri": "https://localhost:8080/"
        }
      },
      "outputs": [
        {
          "output_type": "stream",
          "name": "stdout",
          "text": [
            "Writing ex02.cpp\n"
          ]
        }
      ],
      "source": [
        "%%writefile -a ex02.cpp\n",
        "\n",
        "cout << setw(20)<< \"LOCATION\" << setw(8) << \"VALUE\" << endl;\n",
        "for(int i = 0; i < 4; i++){\n",
        "   cout <<  setw(20)<< (primes + i) << setw(8) << *(primes + i) << endl;\n",
        "}\n",
        "\n",
        "cout << endl;"
      ]
    },
    {
      "cell_type": "markdown",
      "metadata": {
        "id": "NwTonTrIFbDn"
      },
      "source": [
        "Here, `primes` points to the first element in the array, which is `2`. To loop through all the elements, the expression `primes + i` is used. This is an example of that is called **pointer arithmetic**.\n",
        "\n",
        "Array names are, however, constant pointers which means that, unlike other pointers, they cannot be changed to point to something else. For example, we cannot re-point `primes` to another location. The compiler forbids it. Uncomment the following line to see the error."
      ]
    },
    {
      "cell_type": "code",
      "execution_count": 16,
      "metadata": {
        "id": "4wuNX1VTFbDn",
        "outputId": "db8dc771-9518-41ac-c18f-855273c8fcbb",
        "colab": {
          "base_uri": "https://localhost:8080/"
        }
      },
      "outputs": [
        {
          "output_type": "stream",
          "name": "stdout",
          "text": [
            "Appending to ex02.cpp\n"
          ]
        }
      ],
      "source": [
        "%%writefile -a ex02.cpp\n",
        "\n",
        "// primes = &var1;"
      ]
    },
    {
      "cell_type": "markdown",
      "metadata": {
        "id": "abwI5wSwFbDo"
      },
      "source": [
        "## Pointer arithmetic and array indexing\n",
        "**Pointer arithmetic** means adding/subtracting integer values to/from a pointer to get to the values that are one, two, three, etc positions after/before the location pointed to by the pointer itself. For example, having a pointer `ptr`, the expression `ptr + 5` points to the location that is 5 positions after the location pointed to by `ptr`. Similarly, the expression `ptr - 3` points to the location that is 3 positions before the location pointed to by `ptr`\n",
        "\n",
        "Here is the previous loop again:"
      ]
    },
    {
      "cell_type": "code",
      "execution_count": null,
      "metadata": {
        "id": "Su83gmWLFbDo",
        "outputId": "c2b47d76-99b4-4baa-e89d-4eafd5608a7d",
        "colab": {
          "base_uri": "https://localhost:8080/"
        }
      },
      "outputs": [
        {
          "output_type": "stream",
          "name": "stdout",
          "text": [
            "Appending to ex02.cpp\n"
          ]
        }
      ],
      "source": [
        "%%writefile -a ex02.cpp\n",
        "\n",
        "cout << setw(20)<< \"LOCATION\" << setw(8) << \"VALUE\" << endl;\n",
        "for(int i = 0; i < 4; i++){\n",
        "   cout <<  setw(20)<< (primes + i) << setw(8) << *(primes + i) << endl;\n",
        "}\n",
        "\n",
        "cout << endl;"
      ]
    },
    {
      "cell_type": "markdown",
      "metadata": {
        "id": "jcKL-lTqFbDp"
      },
      "source": [
        "This loop has four iterations involving pointer arithmetic:\n",
        "* in the first iteration, `i = 0` and the expression `primes + 0` is the same location as `primes` which points to the first element.\n",
        "* in the second iteration, `i = 1` and the expression `primes + 1` points to the element that is one position after the first element pointed to by `primes`.\n",
        "* in the third iteration, `i = 2` and the expression `primes + 2` points to the element that is two positions after the first element pointed to by `primes`.\n",
        "* in the fourth and last iteration, `i = 3` and the expression `primes + 3` points to the element that is three positions after the first element pointed to by `primes`.\n",
        "\n",
        "\n",
        "Notice here that the expression `*(primes + i)` involves both pointer arithmetic (`primes + i`) and dereferencing (`*`). This expression returns the value at the memory location that is `i` positions after the location pointed to by `primes`. We can simplify this expression using array indexing in which we treat the pointer as if it was an array. Using array indexing, the expression `*(primes + i)` can be replaced by `primes[i]`. This means we can rewrite the above loop in a more readable way:"
      ]
    },
    {
      "cell_type": "code",
      "execution_count": null,
      "metadata": {
        "id": "VxwJclVuFbDp",
        "outputId": "c45c3fa0-a4d2-4e5f-fa05-56ed316e5fdb",
        "colab": {
          "base_uri": "https://localhost:8080/"
        }
      },
      "outputs": [
        {
          "output_type": "stream",
          "name": "stdout",
          "text": [
            "Appending to ex02.cpp\n"
          ]
        }
      ],
      "source": [
        "%%writefile -a ex02.cpp\n",
        "\n",
        "  cout << setw(20)<< \"LOCATION\" << setw(8) << \"VALUE\" << endl;\n",
        "  for(int i = 0; i < 4; i++){\n",
        "    cout <<  setw(20)<< (primes + i) << setw(8) << primes[i] << endl;\n",
        "  }\n",
        "\n",
        "  return 0;\n",
        "}"
      ]
    },
    {
      "cell_type": "code",
      "source": [
        "!g++ -std=c++17 ex02.cpp -o ex02\n",
        "!./ex02"
      ],
      "metadata": {
        "id": "JbsKqhHENDAd",
        "outputId": "99096b16-2bf7-4e9f-e71c-ac8a0b8066e1",
        "colab": {
          "base_uri": "https://localhost:8080/"
        }
      },
      "execution_count": null,
      "outputs": [
        {
          "output_type": "stream",
          "name": "stdout",
          "text": [
            "2\n",
            "3\n",
            "5\n",
            "7\n",
            "\n",
            "            LOCATION   VALUE\n",
            "      0x7ffebf531570       2\n",
            "      0x7ffebf531574       3\n",
            "      0x7ffebf531578       5\n",
            "      0x7ffebf53157c       7\n",
            "\n",
            "            LOCATION   VALUE\n",
            "      0x7ffebf531570       2\n",
            "      0x7ffebf531574       3\n",
            "      0x7ffebf531578       5\n",
            "      0x7ffebf53157c       7\n",
            "\n",
            "            LOCATION   VALUE\n",
            "      0x7ffebf531570       2\n",
            "      0x7ffebf531574       3\n",
            "      0x7ffebf531578       5\n",
            "      0x7ffebf53157c       7\n"
          ]
        }
      ]
    },
    {
      "cell_type": "markdown",
      "metadata": {
        "id": "MkUAkgG6FbDp"
      },
      "source": [
        "## CODING CHALLENGE 2\n",
        "Utah has the following counties:\n",
        "\n",
        "    Beaver\n",
        "    Box Elder\n",
        "    Cache\n",
        "    Carbon\n",
        "    Daggett\n",
        "    Davis\n",
        "    Duchesne\n",
        "    Emery\n",
        "    Garfield\n",
        "    Grand\n",
        "    Iron\n",
        "    Juab\n",
        "    Kane\n",
        "    Millard\n",
        "    Morgan\n",
        "    Piute\n",
        "    Rich\n",
        "    Salt Lake\n",
        "    San Juan\n",
        "    Sanpete\n",
        "    Sevier\n",
        "    Summit\n",
        "    Tooele\n",
        "    Uintah\n",
        "    Utah\n",
        "    Wasatch\n",
        "    Washington\n",
        "    Wayne\n",
        "    Weber\n",
        "\n",
        "Define an array named `utahCounties` and initialize it to these counties. Use a `for` loop to display these counties side by side with their memory locations."
      ]
    },
    {
      "cell_type": "code",
      "execution_count": 17,
      "metadata": {
        "id": "Hsfo0bPPFbDq",
        "outputId": "303df44f-4e2e-4e23-d070-cd6bc0978581",
        "colab": {
          "base_uri": "https://localhost:8080/"
        }
      },
      "outputs": [
        {
          "output_type": "stream",
          "name": "stdout",
          "text": [
            "Writing ch02.cpp\n"
          ]
        }
      ],
      "source": [
        "%%writefile ch02.cpp\n",
        "\n",
        "// TODO\n",
        "#include <iostream>\n",
        "#include <string>\n",
        "#include <iomanip>\n",
        "\n",
        "using namespace std;\n",
        "\n",
        "int main () {\n",
        "  // TODO\n",
        "  string utahCounties[] {\"Beaver\", \"Box Elder\", \"Cache\", \"Carbon\", \"Daggett\",\n",
        "  \"Davis\", \"Duchesne\", \"Emery\", \"Garfield\", \"Grand\", \"Iron\", \"Juab\", \"Kane\",\n",
        "  \"Millard\", \"Morgan\", \"Piute\", \"Rich\", \"Salt Lake\", \"San Juan\", \"Sanpete\",\n",
        "  \"Sevier\", \"Summit\", \"Tooele\", \"Uintah\", \"Utah\", \"Wasatch\", \"Washington\",\n",
        "  \"Wayne\",  \"Weber\"};\n",
        "\n",
        "  cout << setw(20) << \"Memory Address\" << setw(20) << \"County name\" << endl;\n",
        "  for(int i = 0; i <)\n",
        "\n",
        "\n",
        "  return 0;\n",
        "}"
      ]
    },
    {
      "cell_type": "code",
      "source": [
        "!g++ -std=c++17 ch02.cpp -o ch02\n",
        "!./ch02"
      ],
      "metadata": {
        "id": "2v0KaZWOfdxj"
      },
      "execution_count": null,
      "outputs": []
    },
    {
      "cell_type": "markdown",
      "metadata": {
        "id": "RlguGzuaFbDq"
      },
      "source": [
        "## Passing arguments by pointer\n",
        "Pointers are also used to efficiently pass large data to functions. Functions with pointer parameters such as the `centimizeByPtr` function here is said to be **passing arguments by pointer**. This is similar to passing by reference in the sense that the original value is accessible from the function and if the function changes that value, that change is seen by the calling program. Here is an example with the three ways of passing arguments to functions side by side:\n",
        "* by value,\n",
        "* by reference, and\n",
        "* by pointer.\n",
        "\n",
        "Here is a program demonstrating all these ways:"
      ]
    },
    {
      "cell_type": "code",
      "execution_count": null,
      "metadata": {
        "scrolled": true,
        "id": "sPi-JTaLFbDq",
        "outputId": "da37b56c-602b-48c4-8f2e-adf297494162",
        "colab": {
          "base_uri": "https://localhost:8080/"
        }
      },
      "outputs": [
        {
          "output_type": "stream",
          "name": "stdout",
          "text": [
            "Overwriting ex03.cpp\n"
          ]
        }
      ],
      "source": [
        "%%writefile ex03.cpp\n",
        "\n",
        "#include <iostream>\n",
        "#include <iomanip>\n",
        "using namespace std;\n",
        "\n",
        "double centimizeByVal(double len){\n",
        "    return len * 2.54;\n",
        "}\n",
        "\n",
        "void centimizeByRef(double& len){\n",
        "    len = len * 2.54;\n",
        "}\n",
        "\n",
        "void centimizeByPtr(double* len){\n",
        "    *len = *len * 2.54;\n",
        "}"
      ]
    },
    {
      "cell_type": "markdown",
      "metadata": {
        "id": "kBr0wRIEFbDs"
      },
      "source": [
        "Here is an example of of how to use these functions:"
      ]
    },
    {
      "cell_type": "code",
      "execution_count": null,
      "metadata": {
        "id": "hrVHAhmVFbDt",
        "outputId": "d4d79b69-3d95-4570-dbc3-0726aa457c72",
        "colab": {
          "base_uri": "https://localhost:8080/"
        }
      },
      "outputs": [
        {
          "output_type": "stream",
          "name": "stdout",
          "text": [
            "Appending to ex03.cpp\n"
          ]
        }
      ],
      "source": [
        "%%writefile -a ex03.cpp\n",
        "\n",
        "int main() {\n",
        "  double n = 11;\n",
        "  cout << n << endl;\n",
        "  cout << centimizeByVal(n) << endl << n << \"\\n\\n\";\n",
        "\n",
        "  centimizeByRef(n);\n",
        "  cout << n << endl;\n",
        "\n",
        "  n = 12; cout << \"\\n\" << n << endl;\n",
        "  centimizeByPtr(&n);\n",
        "  cout << n << endl;\n",
        "\n",
        "  return 0;\n",
        "}"
      ]
    },
    {
      "cell_type": "code",
      "source": [
        "!g++ -std=c++17 ex03.cpp -o ex03\n",
        "!./ex03"
      ],
      "metadata": {
        "id": "32k3aXeTOx2f",
        "outputId": "cd4fbac0-197b-4668-aa2c-f5704a7f8f24",
        "colab": {
          "base_uri": "https://localhost:8080/"
        }
      },
      "execution_count": null,
      "outputs": [
        {
          "output_type": "stream",
          "name": "stdout",
          "text": [
            "11\n",
            "27.94\n",
            "11\n",
            "\n",
            "27.94\n",
            "\n",
            "12\n",
            "30.48\n"
          ]
        }
      ]
    },
    {
      "cell_type": "markdown",
      "metadata": {
        "id": "YQSozyXhFbDu"
      },
      "source": [
        "The rule of thumb here is to use:\n",
        "* passing by value for simple arguments (integers, characters, booleans, floats, and doubles)\n",
        "* passing by pointer for arrays. Remember: array names are themselves pointers.\n",
        "* passing by reference or by pointer for complex arguments (strings, objects, structures, and so on)\n",
        "* and given a choice between by reference and by pointer, choose by reference because references are safer than pointers."
      ]
    },
    {
      "cell_type": "markdown",
      "metadata": {
        "id": "p0E8P99OFbDv"
      },
      "source": [
        "## CODING CHALLENGE 3\n",
        "\n",
        "In the code cell below, complete the following program by defining a swap function with the following prototype. You will need to define this function and test it inside the `main()` function.\n",
        "\n",
        "``` cpp\n",
        "void swapValues(double*, double*);\n",
        "```"
      ]
    },
    {
      "cell_type": "code",
      "execution_count": null,
      "metadata": {
        "id": "mrDfGYvEFbDv",
        "outputId": "04fb54ed-eb16-4ee3-ca3c-91cca130f933",
        "colab": {
          "base_uri": "https://localhost:8080/"
        }
      },
      "outputs": [
        {
          "output_type": "stream",
          "name": "stdout",
          "text": [
            "Overwriting ch03.cpp\n"
          ]
        }
      ],
      "source": [
        "%%writefile ch03.cpp\n",
        "\n",
        "#include <iostream>\n",
        "#include <iomanip>\n",
        "using namespace std;\n",
        "\n",
        "// Prototype\n",
        "void swapValues(double*, double*);\n",
        "\n",
        "//TODO: definition\n",
        "\n",
        "int main() {\n",
        "\n",
        "  //TODO: testing\n",
        "\n",
        "  return 0;\n",
        "}"
      ]
    },
    {
      "cell_type": "code",
      "execution_count": null,
      "metadata": {
        "id": "FP0gpwxxFbDv"
      },
      "outputs": [],
      "source": [
        "!g++ -std=c++17 ch03.cpp -o ch03\n",
        "!./ch03"
      ]
    },
    {
      "cell_type": "markdown",
      "metadata": {
        "id": "00gsFDhJFbDv"
      },
      "source": [
        "## Passing arrays to functions\n",
        "Arrays in C++ are passed to functions by pointer. With array names being simply pointers to their first elements, we can pass arrays to functions using two different but equivalent syntaxes:\n",
        "* using the array syntax\n",
        "* using the pointer syntax\n",
        "\n",
        "\n",
        "Here is an example. We start by defining an array of two double values:"
      ]
    },
    {
      "cell_type": "code",
      "execution_count": null,
      "metadata": {
        "id": "s9lkki1wFbDv",
        "outputId": "740a7f8f-bdba-4ee1-f021-639cf4b2cbca",
        "colab": {
          "base_uri": "https://localhost:8080/"
        }
      },
      "outputs": [
        {
          "output_type": "stream",
          "name": "stdout",
          "text": [
            "Overwriting ex04.cpp\n"
          ]
        }
      ],
      "source": [
        "%%writefile ex04.cpp\n",
        "\n",
        "#include <iostream>\n",
        "using namespace std;\n",
        "\n",
        "double vals[] = { 11.5, 17.1, 10.6, 9.78 };"
      ]
    },
    {
      "cell_type": "markdown",
      "metadata": {
        "id": "61XxzTnsFbDw"
      },
      "source": [
        "We want to be able to reverse (swap) the first two elements of this array. So we create two functions: one using the array syntax and the other using the pointer syntax. Here is the first function:"
      ]
    },
    {
      "cell_type": "code",
      "execution_count": null,
      "metadata": {
        "id": "P6V5X2CEFbDw",
        "outputId": "ba2db9b0-21f4-4c66-a437-40255ca986fb",
        "colab": {
          "base_uri": "https://localhost:8080/"
        }
      },
      "outputs": [
        {
          "output_type": "stream",
          "name": "stdout",
          "text": [
            "Appending to ex04.cpp\n"
          ]
        }
      ],
      "source": [
        "%%writefile -a ex04.cpp\n",
        "\n",
        "// Function definition using the array syntax\n",
        "void swapFirstTwoElements1(double arr[]){\n",
        " double temp = arr[0];\n",
        " arr[0] = arr[1];\n",
        " arr[1] = temp;\n",
        "}"
      ]
    },
    {
      "cell_type": "markdown",
      "metadata": {
        "id": "bsPcYGbPFbDx"
      },
      "source": [
        "And here is the second function using the pointer syntax:"
      ]
    },
    {
      "cell_type": "code",
      "execution_count": null,
      "metadata": {
        "id": "Nn_aSB2uFbDy",
        "outputId": "ac162e10-0123-4454-b825-269d7770f36b",
        "colab": {
          "base_uri": "https://localhost:8080/"
        }
      },
      "outputs": [
        {
          "output_type": "stream",
          "name": "stdout",
          "text": [
            "Appending to ex04.cpp\n"
          ]
        }
      ],
      "source": [
        "%%writefile -a ex04.cpp\n",
        "\n",
        "// Function definition using the pointer syntax\n",
        "void swapFirstTwoElements2(double* arr){\n",
        " double temp = *arr;\n",
        " *arr = *(arr + 1);\n",
        " *(arr + 1) = temp;\n",
        "}"
      ]
    },
    {
      "cell_type": "markdown",
      "source": [
        "Notice also how this function uses pointer arithmetic in expressions such as `*(arr + 1)`. We can make it simpler by using array indexing (using brackets `[]`) to replace `*(arr + 1)` with `arr[1]`. This allows us to refactor the second function into a simpler third version that has the best features of both versions 1 and 2."
      ],
      "metadata": {
        "id": "u-kHkP-VcVqC"
      }
    },
    {
      "cell_type": "code",
      "source": [
        "%%writefile -a ex04.cpp\n",
        "\n",
        "void swapFirstTwoElements3(double* arr){\n",
        "  double temp = arr[0];\n",
        "  arr[0] = arr[1];\n",
        "  arr[1] = temp;\n",
        "}"
      ],
      "metadata": {
        "id": "aUnMoaJicXvG",
        "outputId": "af984c9b-f3a1-4919-a92c-43afdb9104f0",
        "colab": {
          "base_uri": "https://localhost:8080/"
        }
      },
      "execution_count": null,
      "outputs": [
        {
          "output_type": "stream",
          "name": "stdout",
          "text": [
            "Appending to ex04.cpp\n"
          ]
        }
      ]
    },
    {
      "cell_type": "markdown",
      "metadata": {
        "id": "ECYyPQaLFbDz"
      },
      "source": [
        "We can now test both functions:"
      ]
    },
    {
      "cell_type": "code",
      "execution_count": null,
      "metadata": {
        "id": "TO9VD9f3FbDz",
        "outputId": "db2180e0-73f5-4af8-a2dc-575644053bc5",
        "colab": {
          "base_uri": "https://localhost:8080/"
        }
      },
      "outputs": [
        {
          "output_type": "stream",
          "name": "stdout",
          "text": [
            "Appending to ex04.cpp\n"
          ]
        }
      ],
      "source": [
        "%%writefile -a ex04.cpp\n",
        "\n",
        "int main() {\n",
        "  // Testing\n",
        "  cout << \"Initially:\" << endl;\n",
        "  cout << *vals << \", \" << *(vals + 1) << endl;\n",
        "\n",
        "  // Calling first function\n",
        "  swapFirstTwoElements1(vals);\n",
        "  cout << \"After swapFirstTwoElements1:\" << endl;\n",
        "  cout << *vals << \", \" << *(vals + 1) << endl;\n",
        "\n",
        "  // Calling second function\n",
        "  swapFirstTwoElements2(vals);\n",
        "  cout << \"After swapFirstTwoElements2:\" << endl;\n",
        "  cout << *vals << \", \" << *(vals + 1) << endl;\n",
        "\n",
        "  // Calling third function\n",
        "  swapFirstTwoElements3(vals);\n",
        "  cout << \"After swapFirstTwoElements2:\" << endl;\n",
        "  cout << *vals << \", \" << *(vals + 1) << endl;\n",
        "\n",
        "  return 0;\n",
        "}"
      ]
    },
    {
      "cell_type": "code",
      "source": [
        "!g++ -std=c++17 ex04.cpp -o ex04\n",
        "!./ex04"
      ],
      "metadata": {
        "id": "PpOlMuQeb1Zw",
        "outputId": "39b4a08f-a7f2-4544-fa0f-2db2ce24cea4",
        "colab": {
          "base_uri": "https://localhost:8080/"
        }
      },
      "execution_count": null,
      "outputs": [
        {
          "output_type": "stream",
          "name": "stdout",
          "text": [
            "Initially:\n",
            "11.5, 17.1\n",
            "After swapFirstTwoElements1:\n",
            "17.1, 11.5\n",
            "After swapFirstTwoElements2:\n",
            "11.5, 17.1\n",
            "After swapFirstTwoElements2:\n",
            "17.1, 11.5\n"
          ]
        }
      ]
    },
    {
      "cell_type": "markdown",
      "metadata": {
        "id": "HRwTSDqfFbD0"
      },
      "source": [
        "Notice in all three function calls, we passed the array name `vals` as parameter.\n"
      ]
    },
    {
      "cell_type": "markdown",
      "metadata": {
        "id": "pPkP-SvsFbD3"
      },
      "source": [
        "## Memory management\n",
        "When a program is loaded into memory, that memory is organized into three segments:\n",
        "* the text segment is where the actual executable program code is loaded,\n",
        "* the stack segment is where local variables are allocated, and\n",
        "* finally the heap segment, where global variables and dynamic memory are allocated.\n",
        "\n",
        "And all the variables we've seen so far have been local variables created inside functions, whether it's the main function or other functions. These variables are known to the compiler before the program runs and are allocated in the stack segment. Stack variables are limited by the fact that the sizes of their memory footprints must be known before the program runs. They, however, have the advantage of automatic memory management which means we don't need to worry about cleaning up after them.\n",
        "\n",
        "Here are some examples of stack variables.\n"
      ]
    },
    {
      "cell_type": "code",
      "source": [
        "%%writefile ex05.cpp\n",
        "\n",
        "#include <iostream>\n",
        "#include <iomanip>\n",
        "#include <vector>\n",
        "\n",
        "using namespace std;\n",
        "\n",
        "int main() {\n",
        "\n",
        "  int xvar;\n",
        "  string str = \"Good morning!\";\n",
        "  double scores[100];\n",
        "  vector<char> choices;"
      ],
      "metadata": {
        "id": "K0_L4t86etYE",
        "outputId": "4466f46b-4982-4f9a-be5a-d8b45ca1fc63",
        "colab": {
          "base_uri": "https://localhost:8080/"
        }
      },
      "execution_count": null,
      "outputs": [
        {
          "output_type": "stream",
          "name": "stdout",
          "text": [
            "Overwriting ex05.cpp\n"
          ]
        }
      ]
    },
    {
      "cell_type": "markdown",
      "metadata": {
        "id": "NK4bghvBFbD3"
      },
      "source": [
        "But often it is not easy, or even possible, for a program to know how much memory it will need before it runs. These programs require the ability to request memory dynamically at run-time. C++ gives us the keyword `new` to do that. This **new operator** allocates memory dynamically by requesting it from the operating system and returns a pointer to it.\n",
        "\n",
        "However, these dynamically allocated memory locations are not automatically returned to the operating system when the program is done with them. It's up to us, the programmers, to do that or risk leaking memory. For cleaning up after these dynamically allocated memory locations, C++ provides us with the keyword `delete`.\n",
        "\n",
        "Here is an example of dynamically allocating memory for a double variable using the `new` operator and returning it back to the operating system using the `delete` operator."
      ]
    },
    {
      "cell_type": "code",
      "source": [
        "%%writefile -a ex05.cpp\n",
        "\n",
        "double* score = new double;\n",
        "\n",
        "cout << \"Enter score:\" << endl;\n",
        "cin >> *score;\n",
        "\n",
        "cout << \"The entered score is \" << *score << \" is stored at \" << score << endl;\n",
        "\n",
        "// Cleaning after score\n",
        "delete score;"
      ],
      "metadata": {
        "id": "wtmZ0d_CfEd6",
        "outputId": "7e81ad6b-87be-4af8-da05-3baa28c74b8d",
        "colab": {
          "base_uri": "https://localhost:8080/"
        }
      },
      "execution_count": null,
      "outputs": [
        {
          "output_type": "stream",
          "name": "stdout",
          "text": [
            "Appending to ex05.cpp\n"
          ]
        }
      ]
    },
    {
      "cell_type": "markdown",
      "metadata": {
        "id": "g2tTWbsDFbD4"
      },
      "source": [
        "The above example uses the `new` and `delete` operators to allocates and clean up after a single value. What if we want a big memory chunk that accommodates an array of values? Well, C++ provides the `new[]` and `delete[]` operators for that. Here is an example of allocating memory for 5 integers, reading the values of those integers from the keyboard, printing them, and finally returning their allocated memory back to the operating system.\n",
        "\n"
      ]
    },
    {
      "cell_type": "code",
      "execution_count": null,
      "metadata": {
        "scrolled": false,
        "id": "4df1_UtKFbD5",
        "outputId": "f24b1160-eb9b-4272-bc5c-6cb57f60729a",
        "colab": {
          "base_uri": "https://localhost:8080/"
        }
      },
      "outputs": [
        {
          "output_type": "stream",
          "name": "stdout",
          "text": [
            "Appending to ex05.cpp\n"
          ]
        }
      ],
      "source": [
        "%%writefile -a ex05.cpp\n",
        "\n",
        "  int *numbers = new int[5];\n",
        "\n",
        "  for(int i = 0; i < 5; i++){\n",
        "      cout << \"Enter number \"<< i + 1 << \": \";\n",
        "      cin >> numbers[i];\n",
        "  }\n",
        "\n",
        "  cout << endl;\n",
        "\n",
        "  cout << setw(8) << \"INDEX\" << setw(10) << \"NUMBER\" << endl;\n",
        "  for(int i = 0; i < 5; i++){\n",
        "      cout << setw(8) << i << setw(10) << numbers[i] << endl;\n",
        "  }\n",
        "  // Clean after numbers; return them to the OS\n",
        "  delete[] numbers;\n",
        "\n",
        "  return 0;\n",
        "}"
      ]
    },
    {
      "cell_type": "code",
      "source": [
        "!g++ -std=c++17 ex05.cpp -o ex05\n",
        "!./ex05"
      ],
      "metadata": {
        "id": "74Nc9BVHgHbf",
        "outputId": "885f8f1c-b4c8-49ea-adca-12c80ed61343",
        "colab": {
          "base_uri": "https://localhost:8080/"
        }
      },
      "execution_count": null,
      "outputs": [
        {
          "output_type": "stream",
          "name": "stdout",
          "text": [
            "Enter score:\n",
            "89\n",
            "The entered score is 89 is stored at 0x5c0b92e4eeb0\n",
            "Enter number 1: 28\n",
            "Enter number 2: 10\n",
            "Enter number 3: 39\n",
            "Enter number 4: 17\n",
            "Enter number 5: 7\n",
            "\n",
            "   INDEX    NUMBER\n",
            "       0        28\n",
            "       1        10\n",
            "       2        39\n",
            "       3        17\n",
            "       4         7\n"
          ]
        }
      ]
    },
    {
      "cell_type": "markdown",
      "metadata": {
        "id": "Lcqy9WruFbD6"
      },
      "source": [
        "And once an object or array is deleted, it's considered trash and must not be used again.\n",
        "\n",
        "## CODING CHALLENGE 4\n",
        "Define a float pointer and use the `new` operator to allocate memory for it. Prompt the user to enter a value for it and print the entered value. When done, clean up after it using the `delete` operator."
      ]
    },
    {
      "cell_type": "code",
      "execution_count": null,
      "metadata": {
        "id": "xxmSv3gGFbD6",
        "outputId": "3d8ca1ce-e118-4e34-a31f-4d7f388fa725",
        "colab": {
          "base_uri": "https://localhost:8080/"
        }
      },
      "outputs": [
        {
          "output_type": "stream",
          "name": "stdout",
          "text": [
            "Overwriting ch04.cpp\n"
          ]
        }
      ],
      "source": [
        "%%writefile ch04.cpp\n",
        "\n",
        "#include <iostream>\n",
        "using namespace std;\n",
        "\n",
        "int main() {\n",
        "\n",
        "  // TODO\n",
        "\n",
        "  return 0;\n",
        "}"
      ]
    },
    {
      "cell_type": "code",
      "source": [
        "!g++ -std=c++17 ch04.cpp -o ch04\n",
        "!./ch04"
      ],
      "metadata": {
        "id": "mDSCwDMRg6KD"
      },
      "execution_count": null,
      "outputs": []
    },
    {
      "cell_type": "markdown",
      "metadata": {
        "id": "yfEtzhiOFbD6"
      },
      "source": [
        "## The arrow `->` operator\n",
        "\n",
        "The above `new`, `new[]`, `delete`, and `delete[]` operators work the same for structures and classes. For example, given the following structure:"
      ]
    },
    {
      "cell_type": "code",
      "execution_count": null,
      "metadata": {
        "id": "MyO_S4-JFbD7",
        "outputId": "b2b1cf68-42af-4f31-a626-f5619b5cb8fb",
        "colab": {
          "base_uri": "https://localhost:8080/"
        }
      },
      "outputs": [
        {
          "output_type": "stream",
          "name": "stdout",
          "text": [
            "Overwriting ex06.cpp\n"
          ]
        }
      ],
      "source": [
        "%%writefile ex06.cpp\n",
        "\n",
        "#include <iostream>\n",
        "#include <iomanip>\n",
        "using namespace std;\n",
        "\n",
        "struct Time {\n",
        "    int hrs;\n",
        "    int min;\n",
        "    int sec;\n",
        "};"
      ]
    },
    {
      "cell_type": "markdown",
      "metadata": {
        "id": "ReF8AjLpFbD8"
      },
      "source": [
        "We can create a dynamically allocated structure object using the `new` operator like this."
      ]
    },
    {
      "cell_type": "code",
      "execution_count": null,
      "metadata": {
        "id": "H6xolYSdFbD8",
        "outputId": "168497df-3d8d-4594-d10e-35e2b8704ece",
        "colab": {
          "base_uri": "https://localhost:8080/"
        }
      },
      "outputs": [
        {
          "output_type": "stream",
          "name": "stdout",
          "text": [
            "Appending to ex06.cpp\n"
          ]
        }
      ],
      "source": [
        "%%writefile -a ex06.cpp\n",
        "\n",
        "int main() {\n",
        "  Time *t = new Time;"
      ]
    },
    {
      "cell_type": "markdown",
      "metadata": {
        "id": "NyngbqeRFbD8"
      },
      "source": [
        "And because `t` is a pointer, we can use the **dereference operator** `*` to access the actual structure object and make changes to it."
      ]
    },
    {
      "cell_type": "code",
      "execution_count": null,
      "metadata": {
        "id": "jFiE8LR5FbD8",
        "outputId": "30f0623a-5574-4d26-8aff-539d48f4c2a5",
        "colab": {
          "base_uri": "https://localhost:8080/"
        }
      },
      "outputs": [
        {
          "output_type": "stream",
          "name": "stdout",
          "text": [
            "Appending to ex06.cpp\n"
          ]
        }
      ],
      "source": [
        "%%writefile -a ex06.cpp\n",
        "\n",
        "(*t).hrs = 11;\n",
        "(*t).min = 45;\n",
        "(*t).sec = 17;\n",
        "\n",
        "cout << (*t).hrs << \":\" << (*t).min << \":\" << (*t).sec << endl;"
      ]
    },
    {
      "cell_type": "markdown",
      "metadata": {
        "id": "4LE2R52ZFbD9"
      },
      "source": [
        "But having to keep typing `(*t)` every time we want to access the structure value is too much. So C++ provides a better alternative called the arrow `->` operator, which allows us to rewrite the above code as:"
      ]
    },
    {
      "cell_type": "code",
      "execution_count": null,
      "metadata": {
        "id": "mirr0WZqFbD-",
        "outputId": "d803fdd7-b397-45b0-802f-7b9c5af71877",
        "colab": {
          "base_uri": "https://localhost:8080/"
        }
      },
      "outputs": [
        {
          "output_type": "stream",
          "name": "stdout",
          "text": [
            "Appending to ex06.cpp\n"
          ]
        }
      ],
      "source": [
        "%%writefile -a ex06.cpp\n",
        "\n",
        "t->hrs = 11;\n",
        "t->min = 45;\n",
        "t->sec = 17;\n",
        "\n",
        "cout << t->hrs << \":\" << t->min << \":\" << t->sec << endl;\n",
        "\n",
        "cout << endl;"
      ]
    },
    {
      "cell_type": "markdown",
      "metadata": {
        "id": "W10N0ArdFbD-"
      },
      "source": [
        "which is much cleaner. Just remember that the arrow `->` operator can only be used after pointers to structure and/or class objects.\n",
        "\n",
        "To return the allocated memory back to the operating system we run:"
      ]
    },
    {
      "cell_type": "code",
      "execution_count": null,
      "metadata": {
        "id": "Us-Hxl_jFbD-",
        "outputId": "a1bb46df-8757-4101-eb8e-5380b304bf02",
        "colab": {
          "base_uri": "https://localhost:8080/"
        }
      },
      "outputs": [
        {
          "output_type": "stream",
          "name": "stdout",
          "text": [
            "Appending to ex06.cpp\n"
          ]
        }
      ],
      "source": [
        "%%writefile -a ex06.cpp\n",
        "\n",
        "delete t;"
      ]
    },
    {
      "cell_type": "markdown",
      "metadata": {
        "id": "3oTL0VypFbD_"
      },
      "source": [
        "Finally, here is an example defining and initializing a dynamically allocated array of 3 times."
      ]
    },
    {
      "cell_type": "code",
      "execution_count": null,
      "metadata": {
        "id": "h2euxfLrFbD_",
        "outputId": "94fe8717-222b-46da-d482-62d22d143c69",
        "colab": {
          "base_uri": "https://localhost:8080/"
        }
      },
      "outputs": [
        {
          "output_type": "stream",
          "name": "stdout",
          "text": [
            "Appending to ex06.cpp\n"
          ]
        }
      ],
      "source": [
        "%%writefile -a ex06.cpp\n",
        "\n",
        "Time* times = new Time[3] {\n",
        "    { 11, 45, 17 },\n",
        "    { 22, 50, 15 },\n",
        "    { 19, 30, 10 },\n",
        "};"
      ]
    },
    {
      "cell_type": "markdown",
      "metadata": {
        "id": "z9WJb-R6FbEA"
      },
      "source": [
        "Then we display these times with and without the `->` operators."
      ]
    },
    {
      "cell_type": "code",
      "execution_count": null,
      "metadata": {
        "scrolled": true,
        "id": "76ISgXsCFbEC",
        "outputId": "f62e454c-3c01-4cef-ea17-8ab8145e09b2",
        "colab": {
          "base_uri": "https://localhost:8080/"
        }
      },
      "outputs": [
        {
          "output_type": "stream",
          "name": "stdout",
          "text": [
            "Appending to ex06.cpp\n"
          ]
        }
      ],
      "source": [
        "%%writefile -a ex06.cpp\n",
        "\n",
        "for(int i = 0; i < 3; i++) {\n",
        "    cout << (times + i)->hrs << \":\" << (times + i)->min << \":\" << (times + i)->sec << endl;\n",
        "}\n",
        "\n",
        "cout << endl;"
      ]
    },
    {
      "cell_type": "markdown",
      "metadata": {
        "id": "EvXKuFWoFbEC"
      },
      "source": [
        "and here is the same loop without the `->` operators (using array indexing and dot operators)."
      ]
    },
    {
      "cell_type": "code",
      "execution_count": null,
      "metadata": {
        "id": "cWvpy8zRFbEE",
        "outputId": "809ebffe-2116-4f3e-8e05-531734b99116",
        "colab": {
          "base_uri": "https://localhost:8080/"
        }
      },
      "outputs": [
        {
          "output_type": "stream",
          "name": "stdout",
          "text": [
            "Appending to ex06.cpp\n"
          ]
        }
      ],
      "source": [
        "%%writefile -a ex06.cpp\n",
        "\n",
        "  for(int i = 0; i < 3; i++) {\n",
        "      cout << times[i].hrs << \":\" << times[i].min << \":\" << times[i].sec << endl;\n",
        "  }\n",
        "\n",
        "  return 0;\n",
        "}"
      ]
    },
    {
      "cell_type": "code",
      "source": [
        "!g++ -std=c++17 ex06.cpp -o ex06\n",
        "!./ex06"
      ],
      "metadata": {
        "id": "512YWlCJhs4I",
        "outputId": "a5511e80-d50d-4bb0-e507-9923b32aaa21",
        "colab": {
          "base_uri": "https://localhost:8080/"
        }
      },
      "execution_count": null,
      "outputs": [
        {
          "output_type": "stream",
          "name": "stdout",
          "text": [
            "11:45:17\n",
            "11:45:17\n",
            "\n",
            "11:45:17\n",
            "22:50:15\n",
            "19:30:10\n",
            "\n",
            "11:45:17\n",
            "22:50:15\n",
            "19:30:10\n"
          ]
        }
      ]
    },
    {
      "cell_type": "markdown",
      "metadata": {
        "id": "VGZKqOSmFbEF"
      },
      "source": [
        "## CODING CHALLENGE 5\n",
        "\n",
        "Define a `Date` structure with day, month, and year members and use it to define and initialize dynamically allocated array of 5 holidays of your choice using the `new []` operator. Print these holiday dates and return the allocated memory back to the operating system using the `delete []` operator."
      ]
    },
    {
      "cell_type": "code",
      "execution_count": null,
      "metadata": {
        "id": "1eTjbzpfFbEG",
        "outputId": "7f0f85cb-0f93-474f-e981-e038d17c48d1",
        "colab": {
          "base_uri": "https://localhost:8080/"
        }
      },
      "outputs": [
        {
          "output_type": "stream",
          "name": "stdout",
          "text": [
            "Overwriting ch05.cpp\n"
          ]
        }
      ],
      "source": [
        "%%writefile ch05.cpp\n",
        "\n",
        "#include <iostream>\n",
        "using namespace std;\n",
        "\n",
        "int main() {\n",
        "\n",
        "  // TODO\n",
        "\n",
        "  return 0;\n",
        "}"
      ]
    },
    {
      "cell_type": "code",
      "source": [
        "!g++ -std=c++17 ch05.cpp -o ch05\n",
        "!./ch05"
      ],
      "metadata": {
        "id": "e324iZD_ikOg"
      },
      "execution_count": null,
      "outputs": []
    },
    {
      "cell_type": "markdown",
      "metadata": {
        "id": "W9mwdPC_FbEH"
      },
      "source": [
        "## A data structure example: A singly-linked list\n",
        "\n",
        "Pointers are essential to implementing efficient data structures and their algorithms. You will see this in more detail when you take the **data structures and algorithms** course. Here we look at a simple fundamental data structure named **singly-linked list** and we implement it using pointers.\n",
        "\n",
        "While built-in arrays are fast, they suffer from three limitations:\n",
        "- They are fixed in size and their sizes must be known at compile-time.\n",
        "- They are contiguous which can make it difficult to create very large arrays in fragmented or limited memory.\n",
        "- It is not efficient to insert an item in the middle of an array because that would require moving some existing items by one location.\n",
        "\n",
        "Arrays are made of a set of adjacent items like the following:\n",
        "\n",
        "```\n",
        "    +---+---+---+-----+---+\n",
        "    | 8 | 5 | 9 | ... | 4 |\n",
        "    +---+---+---+-----+---+\n",
        "```\n",
        "which means that going from one item to the next involves incrementing the current index by one.\n",
        "\n",
        "Linked lists on the other hand have their items scattered all over as you see below.\n",
        "\n",
        "\n",
        "```\n",
        "                   +---+                                       +---+\n",
        "                   | 5 |                                       | 4 |\n",
        "                   +---+       +---+                           +---+\n",
        "                               | 9 |                    \n",
        "                               +---+                      \n",
        "        +---+                                    +-----+    \n",
        "        | 8 |                                    | ... |\n",
        "        +---+                                    +-----+\n",
        "```\n",
        "\n",
        "For these scattered items to be made into a list, we have to link them together and indicate for each one of them what and where the next item is. We also need to mark where the beginning and end of this list are.\n",
        "\n",
        "We call the data structure that maintains all these links and marks a **linked list**. Such data structure gives us something like this:\n",
        "\n",
        "```\n",
        "                   +---+                                         +---+\n",
        "               +-->| 5 |---+                               +---->| 4 |--> nullptr\n",
        "               |   +---+   |    +---+                      |     +---+\n",
        "               |           +--->| 9 |-----+                |       ▲\n",
        "               |                +---+     |                |       |\n",
        "        +---+  |                          |     +-----+    |      tail\n",
        " head-->| 8 |--+                          +---->| ... |----+\n",
        "        +---+                                   +-----+\n",
        "```\n",
        "\n",
        "with `head` marking the start of the list, `tail` marking the end of it, and arrow pointers emitting from one item and pointing to the next. This will be a **singly-linked list** in which every item has a single pointer to the item that comes after it. This list allows us to iterate over its items starting with the `head` until we reach the tail. It does not however allow for going the opposite direction: `tail` to `head`.\n",
        "\n",
        "Let's see what implementing this singly-linked list looks like. This implementation will, again, show you how the topics you've been learning for the past few weeks (loops and conditionals, functions, structures, and pointers) are brought together nicely to make something as essential as a singly-linked list.\n",
        "\n",
        "We start with a structure named `Item` representing the items on this list. Each item has two members: the value of the item and a pointer to the next item."
      ]
    },
    {
      "cell_type": "code",
      "execution_count": null,
      "metadata": {
        "id": "QCcqxI0vFbEI",
        "outputId": "7f26f979-2aba-472d-8894-fcb2ff1d3179",
        "colab": {
          "base_uri": "https://localhost:8080/"
        }
      },
      "outputs": [
        {
          "output_type": "stream",
          "name": "stdout",
          "text": [
            "Overwriting ex07.cpp\n"
          ]
        }
      ],
      "source": [
        "%%writefile ex07.cpp\n",
        "\n",
        "#include <iostream>\n",
        "#include <iomanip>\n",
        "using namespace std;\n",
        "\n",
        "struct Item {\n",
        "    int value;\n",
        "    Item* next;\n",
        "};"
      ]
    },
    {
      "cell_type": "markdown",
      "metadata": {
        "id": "GyyuYjucFbEJ"
      },
      "source": [
        "We also need a structure to represent the list with three members: `head` which is a pointer to the first item in the list, `tail` which points to the last item in the list, and `size` for keeping track of how many items are in the list."
      ]
    },
    {
      "cell_type": "code",
      "execution_count": null,
      "metadata": {
        "id": "N_E6El0TFbEJ",
        "outputId": "20b70f91-aaea-4331-d2af-4a441a13672b",
        "colab": {
          "base_uri": "https://localhost:8080/"
        }
      },
      "outputs": [
        {
          "output_type": "stream",
          "name": "stdout",
          "text": [
            "Appending to ex07.cpp\n"
          ]
        }
      ],
      "source": [
        "%%writefile -a ex07.cpp\n",
        "\n",
        "struct List {\n",
        "    Item* head;\n",
        "    Item* tail;\n",
        "    int size;\n",
        "};"
      ]
    },
    {
      "cell_type": "markdown",
      "metadata": {
        "id": "tSC0WWgcFbEJ"
      },
      "source": [
        "We then define four functions to operate on and maintain the list:\n",
        "* One function is for adding a new item to the end of the list. Here we create an item using the given value and add it to the end of the list. If the list is empty, the item becomes both the head and tail of the list. Else, it is only the tail of the list."
      ]
    },
    {
      "cell_type": "code",
      "execution_count": null,
      "metadata": {
        "id": "LJJLXZowFbEJ",
        "outputId": "3b17c83e-a67b-4905-b584-d6296dcd8b33",
        "colab": {
          "base_uri": "https://localhost:8080/"
        }
      },
      "outputs": [
        {
          "output_type": "stream",
          "name": "stdout",
          "text": [
            "Appending to ex07.cpp\n"
          ]
        }
      ],
      "source": [
        "%%writefile -a ex07.cpp\n",
        "\n",
        "void addItem(List* list, int val){\n",
        "    // Create the item first\n",
        "    Item* item = new Item;\n",
        "    item->value = val;\n",
        "    item->next = nullptr;\n",
        "\n",
        "    if(list->head){// if list is not empty\n",
        "        list->tail->next = item; // adds item to the tail of the list\n",
        "    }else{ // if list is empty\n",
        "        list->head =item; // The added item will be the head of the list\n",
        "    }\n",
        "\n",
        "    list->tail = item; // Making the item the tail of the list\n",
        "    list->size++;\n",
        "}"
      ]
    },
    {
      "cell_type": "markdown",
      "metadata": {
        "id": "VmFpuPOTFbEK"
      },
      "source": [
        "* Another one is for searching whether an item with a given value is in the list. We start at the head of the list and use a `while` loop (you can use other loops if you want to, but the `while` loop works best here) to iterate over all the items until the value is found. Notice here how when the while loop reaches the `nullptr` link at the end, it stops. This is because C++, conveniently, converts null pointers to false in loops and if statements."
      ]
    },
    {
      "cell_type": "code",
      "execution_count": null,
      "metadata": {
        "id": "PA-50OgsFbEL",
        "outputId": "6c782629-bd23-4f7c-d86e-83484c5e364b",
        "colab": {
          "base_uri": "https://localhost:8080/"
        }
      },
      "outputs": [
        {
          "output_type": "stream",
          "name": "stdout",
          "text": [
            "Appending to ex07.cpp\n"
          ]
        }
      ],
      "source": [
        "%%writefile -a ex07.cpp\n",
        "\n",
        "bool searchForItem(List* list, int val){\n",
        "    Item* current = list->head;\n",
        "    while(current){\n",
        "        if(current->value == val){\n",
        "            return true; // Found\n",
        "        }\n",
        "\n",
        "        current = current->next;\n",
        "    }\n",
        "\n",
        "    return false; // Not found\n",
        "}"
      ]
    },
    {
      "cell_type": "markdown",
      "metadata": {
        "id": "BWpP9n01FbEM"
      },
      "source": [
        "* Another function is for removing an item from the list. This is the most complex function of all four functions. First, we search for an item using the given value. If not found we do nothing. If found, we have multiple cases to consider. Is the item to be removed the head of the list? If so, we remove it and make its next item the new head. If not, we need to iterate over the items and find the one to be removed along with the item before it. Then we link the item before to the item after completely bypassing the item to be removed. Before returning we decrement the size by one and return the memory of the removed item back to the operating system."
      ]
    },
    {
      "cell_type": "code",
      "execution_count": null,
      "metadata": {
        "id": "nqMjxO-QFbEM",
        "outputId": "19b9d6d2-2179-42e8-e76d-381e647bf085",
        "colab": {
          "base_uri": "https://localhost:8080/"
        }
      },
      "outputs": [
        {
          "output_type": "stream",
          "name": "stdout",
          "text": [
            "Appending to ex07.cpp\n"
          ]
        }
      ],
      "source": [
        "%%writefile -a ex07.cpp\n",
        "\n",
        "void removeItem(List* list, int val){\n",
        "    if(searchForItem(list, val)){\n",
        "        Item* to_be_removed = nullptr;\n",
        "        if(list->head->value == val){ // If the item to be removed is the head\n",
        "            to_be_removed = list->head;\n",
        "            list->head = to_be_removed->next;\n",
        "        } else { // If it is not the head\n",
        "            Item* before_item = list->head;\n",
        "            Item* current = list->head->next;\n",
        "            while(current){\n",
        "                if(current->value == val){\n",
        "                    to_be_removed = current;\n",
        "\n",
        "                    before_item->next = current->next; // Bypassing the item to be removed\n",
        "\n",
        "                    if(to_be_removed == list->tail){ // If the item to be removed is the tail\n",
        "                        list->tail = before_item; // Make the item before the new tail\n",
        "                    }\n",
        "\n",
        "                    break;\n",
        "                }\n",
        "\n",
        "                before_item = current;\n",
        "                current = current->next;\n",
        "            }\n",
        "        }\n",
        "\n",
        "        list->size--;\n",
        "        delete to_be_removed;\n",
        "    }\n",
        "}"
      ]
    },
    {
      "cell_type": "markdown",
      "metadata": {
        "id": "EC4z0LRIFbEM"
      },
      "source": [
        "* Finally one function is for printing the items on the list.\n"
      ]
    },
    {
      "cell_type": "code",
      "execution_count": null,
      "metadata": {
        "id": "Q1BKk9MOFbEN",
        "outputId": "7017d99a-8ddb-4f2d-99ae-94f3888f8095",
        "colab": {
          "base_uri": "https://localhost:8080/"
        }
      },
      "outputs": [
        {
          "output_type": "stream",
          "name": "stdout",
          "text": [
            "Appending to ex07.cpp\n"
          ]
        }
      ],
      "source": [
        "%%writefile -a ex07.cpp\n",
        "\n",
        "void printList(List* list){\n",
        "    Item* current = list->head;\n",
        "    while(current){\n",
        "        cout << current->value;\n",
        "        if(current == list->head){\n",
        "            cout << \"(head)->\";\n",
        "        } else if(current == list->tail){\n",
        "            cout << \"(tail)->\";\n",
        "        } else {\n",
        "            cout << \"->\";\n",
        "        }\n",
        "\n",
        "        current = current->next;\n",
        "    }\n",
        "\n",
        "    cout << \"nullptr -- \" << list->size << \" items found.\"<< endl;\n",
        "}"
      ]
    },
    {
      "cell_type": "markdown",
      "metadata": {
        "id": "QI66bwmUFbEN"
      },
      "source": [
        "That is it. Having implemented these functions, we test our implementation. First, we create an empty list."
      ]
    },
    {
      "cell_type": "code",
      "execution_count": null,
      "metadata": {
        "id": "WgOYO_YjFbEO",
        "outputId": "c8d968c4-2465-4cca-e004-4cfaefeeb58e",
        "colab": {
          "base_uri": "https://localhost:8080/"
        }
      },
      "outputs": [
        {
          "output_type": "stream",
          "name": "stdout",
          "text": [
            "Appending to ex07.cpp\n"
          ]
        }
      ],
      "source": [
        "%%writefile -a ex07.cpp\n",
        "\n",
        "int main() {\n",
        "  List lst = { nullptr, nullptr, 0 };"
      ]
    },
    {
      "cell_type": "markdown",
      "metadata": {
        "id": "Sz6LbaK7FbEO"
      },
      "source": [
        "We then add a few items and print the list. Notice the use of the address of `&` operator to pass the list to the `addItem` function by pointer."
      ]
    },
    {
      "cell_type": "code",
      "execution_count": null,
      "metadata": {
        "scrolled": true,
        "id": "oSFNe4OjFbEP",
        "outputId": "dfcb942a-8794-4bb3-994e-1d544dcfefb0",
        "colab": {
          "base_uri": "https://localhost:8080/"
        }
      },
      "outputs": [
        {
          "output_type": "stream",
          "name": "stdout",
          "text": [
            "Appending to ex07.cpp\n"
          ]
        }
      ],
      "source": [
        "%%writefile -a ex07.cpp\n",
        "\n",
        "addItem(&lst, 12);\n",
        "addItem(&lst, 23);\n",
        "addItem(&lst, 56);\n",
        "addItem(&lst, 94);\n",
        "addItem(&lst, 88);\n",
        "addItem(&lst, 77);"
      ]
    },
    {
      "cell_type": "markdown",
      "metadata": {
        "id": "p41begETFbEP"
      },
      "source": [
        "Let's search for 13 which should not be found (0 is printed for false)."
      ]
    },
    {
      "cell_type": "code",
      "execution_count": null,
      "metadata": {
        "id": "QKPXAJygFbEQ",
        "outputId": "4e762dce-9040-40a6-d728-31bfd7f4ec6e",
        "colab": {
          "base_uri": "https://localhost:8080/"
        }
      },
      "outputs": [
        {
          "output_type": "stream",
          "name": "stdout",
          "text": [
            "Appending to ex07.cpp\n"
          ]
        }
      ],
      "source": [
        "%%writefile -a ex07.cpp\n",
        "\n",
        "cout << searchForItem(&lst, 13);"
      ]
    },
    {
      "cell_type": "markdown",
      "metadata": {
        "id": "pUXeknDjFbER"
      },
      "source": [
        "Let's also search for 23 which should be found (1 is printed for true)."
      ]
    },
    {
      "cell_type": "code",
      "execution_count": null,
      "metadata": {
        "id": "8B3m9wZWFbER",
        "outputId": "5914400b-aaca-43a0-84ca-08ce315af566",
        "colab": {
          "base_uri": "https://localhost:8080/"
        }
      },
      "outputs": [
        {
          "output_type": "stream",
          "name": "stdout",
          "text": [
            "Appending to ex07.cpp\n"
          ]
        }
      ],
      "source": [
        "%%writefile -a ex07.cpp\n",
        "\n",
        "cout << searchForItem(&lst, 23);"
      ]
    },
    {
      "cell_type": "markdown",
      "metadata": {
        "id": "lNhABDjVFbES"
      },
      "source": [
        "We then remove a couple of items: the head item 12, the tail item 77, and an item in the middle 56. We print the list before and after each removal."
      ]
    },
    {
      "cell_type": "code",
      "execution_count": null,
      "metadata": {
        "id": "TjQS4-TtFbES",
        "outputId": "d5028d8e-3708-47c0-c9e7-aafb3664f514",
        "colab": {
          "base_uri": "https://localhost:8080/"
        }
      },
      "outputs": [
        {
          "output_type": "stream",
          "name": "stdout",
          "text": [
            "Appending to ex07.cpp\n"
          ]
        }
      ],
      "source": [
        "%%writefile -a ex07.cpp\n",
        "\n",
        "cout << setw(20) << \"Originally: \\n\";\n",
        "printList(&lst);\n",
        "\n",
        "removeItem(&lst, 12);\n",
        "cout << setw(20) <<  \"\\nAfter removing 12: \\n\";\n",
        "printList(&lst);\n",
        "\n",
        "removeItem(&lst, 77);\n",
        "cout << setw(20) << \"\\nAfter removing 77: \\n\";\n",
        "printList(&lst);\n",
        "\n",
        "removeItem(&lst, 56);\n",
        "cout << setw(20) << \"\\nAfter removing 56: \\n\";\n",
        "printList(&lst);\n",
        "\n",
        "cout << endl << endl;"
      ]
    },
    {
      "cell_type": "markdown",
      "metadata": {
        "id": "-iwGisvZFbES"
      },
      "source": [
        "Finally, can we use the `new` operator to create the list? Of course!"
      ]
    },
    {
      "cell_type": "code",
      "execution_count": null,
      "metadata": {
        "id": "bCyB_AC6FbES",
        "outputId": "8155c5aa-0d63-4183-8578-b23a54dc5a31",
        "colab": {
          "base_uri": "https://localhost:8080/"
        }
      },
      "outputs": [
        {
          "output_type": "stream",
          "name": "stdout",
          "text": [
            "Appending to ex07.cpp\n"
          ]
        }
      ],
      "source": [
        "%%writefile -a ex07.cpp\n",
        "\n",
        "  cout << endl << \"Another list: \" << endl;\n",
        "\n",
        "  List *anotherList = new List {nullptr, nullptr, 0};\n",
        "  addItem(anotherList, 204);\n",
        "  addItem(anotherList, 230);\n",
        "  addItem(anotherList, 516);\n",
        "  addItem(anotherList, 100);\n",
        "  printList(anotherList);\n",
        "\n",
        "  return 0;\n",
        "}"
      ]
    },
    {
      "cell_type": "markdown",
      "source": [
        "Let's compile and run this program:"
      ],
      "metadata": {
        "id": "X15e0gp3jUtG"
      }
    },
    {
      "cell_type": "code",
      "source": [
        "!g++ -std=c++17 ex07.cpp -o ex07\n",
        "!./ex07"
      ],
      "metadata": {
        "id": "nW3vQzMcjTsw",
        "outputId": "fe9a3006-54d0-4818-bb69-b6de06aa2a39",
        "colab": {
          "base_uri": "https://localhost:8080/"
        }
      },
      "execution_count": null,
      "outputs": [
        {
          "output_type": "stream",
          "name": "stdout",
          "text": [
            "01       Originally: \n",
            "12(head)->23->56->94->88->77(tail)->nullptr -- 6 items found.\n",
            "\n",
            "After removing 12: \n",
            "23(head)->56->94->88->77(tail)->nullptr -- 5 items found.\n",
            "\n",
            "After removing 77: \n",
            "23(head)->56->94->88(tail)->nullptr -- 4 items found.\n",
            "\n",
            "After removing 56: \n",
            "23(head)->94->88(tail)->nullptr -- 3 items found.\n",
            "\n",
            "\n",
            "\n",
            "Another list: \n",
            "204(head)->230->516->100(tail)->nullptr -- 4 items found.\n"
          ]
        }
      ]
    }
  ],
  "metadata": {
    "kernelspec": {
      "display_name": "Python 3",
      "name": "python3"
    },
    "language_info": {
      "name": "python"
    },
    "colab": {
      "provenance": [],
      "toc_visible": true
    }
  },
  "nbformat": 4,
  "nbformat_minor": 0
}