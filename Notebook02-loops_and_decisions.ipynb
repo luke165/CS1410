{
  "cells": [
    {
      "cell_type": "markdown",
      "metadata": {
        "id": "qYXbKAzRMfac"
      },
      "source": [
        "<a target=\"_blank\" href=\"https://colab.research.google.com/github/WSU-CS1410-AA/cs1410-notebooks/blob/main/Notebook02-loops_and_decisions.ipynb\">\n",
        "  <img src=\"https://colab.research.google.com/assets/colab-badge.svg\" alt=\"Open In Colab\"/>\n",
        "</a>"
      ]
    },
    {
      "cell_type": "markdown",
      "metadata": {
        "id": "h7ILcZaPkpXX"
      },
      "source": [
        "# Loops\n",
        "We use loops to repeat things over and over. C++, like many other languages, supports three kinds of loops: the `for` loop, the `while` loop, and the `do-while` loop. As of C++11, a forth special loop named the **range-based** `for` loop was added; we will see this new loop later in class."
      ]
    },
    {
      "cell_type": "markdown",
      "metadata": {
        "id": "DgGJiVhKMfah"
      },
      "source": [
        "## The `for` loop\n",
        "\n",
        "The `for` loop is perhaps the most popular. It takes the following form:\n",
        "\n",
        "```c++\n",
        "// For repeating a single statement\n",
        "for(initialize; test; increment)\n",
        "  Statement;\n",
        "```\n",
        "or\n",
        "```c++\n",
        "// For repeating one or more statements\n",
        "for(initialize; test; increment){\n",
        "  Statement(s);\n",
        "}\n",
        "```\n",
        "\n",
        "To control how many times the statement(s) is(are) repeated, the `for` loop uses a loop variable which is initialized in the `initialize` part of the loop, incremented (or decremented) in the `increment` part. The `test` part is a boolean expression (or a condition) that when `true` allows the loop to continue and when `false` terminates it."
      ]
    },
    {
      "cell_type": "markdown",
      "metadata": {
        "id": "pmP3zwpfMfaj"
      },
      "source": [
        "Let's play a bit with the `for` loop. Here is a simple program repeating the following statement `12` times:\n",
        "\n",
        "```cpp\n",
        "cout << \"Welcome to C++ programming!\" << endl;\n",
        "```"
      ]
    },
    {
      "cell_type": "code",
      "execution_count": null,
      "metadata": {
        "colab": {
          "base_uri": "https://localhost:8080/"
        },
        "id": "JgL0w8pPMfak",
        "outputId": "2330f963-c018-4d30-f629-cd71e5ac9c0e"
      },
      "outputs": [
        {
          "output_type": "stream",
          "name": "stdout",
          "text": [
            "Writing ex01.cpp\n"
          ]
        }
      ],
      "source": [
        "%%writefile ex01.cpp\n",
        "\n",
        "#include <iostream>\n",
        "using namespace std;\n",
        "\n",
        "int main(){\n",
        "  for(int i = 1; i <= 12; i++){\n",
        "    cout << \"Welcome to C++ programming!\" << endl;\n",
        "  }\n",
        "\n",
        "  return 0;\n",
        "}"
      ]
    },
    {
      "cell_type": "code",
      "execution_count": null,
      "metadata": {
        "colab": {
          "base_uri": "https://localhost:8080/"
        },
        "id": "g9anK__TNCZq",
        "outputId": "2ef10099-e9fa-4fa2-87f3-b2d1e7ab049a"
      },
      "outputs": [
        {
          "output_type": "stream",
          "name": "stdout",
          "text": [
            "Welcome to C++ programming!\n",
            "Welcome to C++ programming!\n",
            "Welcome to C++ programming!\n",
            "Welcome to C++ programming!\n",
            "Welcome to C++ programming!\n",
            "Welcome to C++ programming!\n",
            "Welcome to C++ programming!\n",
            "Welcome to C++ programming!\n",
            "Welcome to C++ programming!\n",
            "Welcome to C++ programming!\n",
            "Welcome to C++ programming!\n",
            "Welcome to C++ programming!\n"
          ]
        }
      ],
      "source": [
        "!g++ -std=c++17 ex01.cpp -o ex01\n",
        "!./ex01"
      ]
    },
    {
      "cell_type": "markdown",
      "metadata": {
        "id": "rFZPAzl5Mfak"
      },
      "source": [
        "It's important with regard to the `for` loop to know that:\n",
        "* The **initialize** part (`int i = 1`) runs only once before the first iteration. And because the loop variable `i` is defined within the `for` loop, it's only recognizable within the loop; outside the loop; it does not exist.\n",
        "* The **test** part (`i <= 12`) runs at the beginning of every iteration; that is it runs as many times as number of iterations.\n",
        "* The **increment** part (`i++`) runs after every iteration; it also runs as many times as the number of iterations.\n",
        "\n",
        "Here are other example `for` loops:"
      ]
    },
    {
      "cell_type": "code",
      "execution_count": null,
      "metadata": {
        "colab": {
          "base_uri": "https://localhost:8080/"
        },
        "id": "takqUlIVMfal",
        "outputId": "f126b8ac-7001-4391-f4fa-887c241ac253"
      },
      "outputs": [
        {
          "output_type": "stream",
          "name": "stdout",
          "text": [
            "Writing ex02.cpp\n"
          ]
        }
      ],
      "source": [
        "%%writefile ex02.cpp\n",
        "\n",
        "#include <iostream>\n",
        "using namespace std;\n",
        "\n",
        "int main(){\n",
        "\n",
        "  // Counting up\n",
        "  for(int i = 0; i < 10; i++){\n",
        "    cout << i;\n",
        "  }\n",
        "  cout << endl;\n",
        "\n",
        "  for(int k = 0; k < 4; k++){\n",
        "    cout << \"Hi\" << endl;\n",
        "  }\n",
        "\n",
        "  // Counting down\n",
        "  for(int j = 9; j >= 0; j--){\n",
        "    cout << j;\n",
        "  }\n",
        "  cout << endl;\n",
        "\n",
        "  return 0;\n",
        "}"
      ]
    },
    {
      "cell_type": "code",
      "execution_count": null,
      "metadata": {
        "colab": {
          "base_uri": "https://localhost:8080/"
        },
        "id": "raFkn-cEOA9S",
        "outputId": "ef1340f2-8f6c-409d-e111-f0e5caa1ea72"
      },
      "outputs": [
        {
          "output_type": "stream",
          "name": "stdout",
          "text": [
            "0123456789\n",
            "Hi\n",
            "Hi\n",
            "Hi\n",
            "Hi\n",
            "9876543210\n"
          ]
        }
      ],
      "source": [
        "!g++ -std=c++17 ex02.cpp -o ex02\n",
        "!./ex02"
      ]
    },
    {
      "cell_type": "markdown",
      "metadata": {
        "id": "GfWMjTisMfal"
      },
      "source": [
        "## CODING CHALLENGE 1\n",
        "In the code cell below, refactor (re-write) the following loop such that the loop variable `i` goes down from say 12 to 1.\n",
        "\n",
        "``` c++\n",
        "for(int i = 1; i <= 12; i++){\n",
        "  cout << \"Welcome to C++ programming!\" << endl;\n",
        "}\n",
        "```"
      ]
    },
    {
      "cell_type": "code",
      "execution_count": 3,
      "metadata": {
        "colab": {
          "base_uri": "https://localhost:8080/"
        },
        "id": "31hpGwI7Mfal",
        "outputId": "63c6e88d-ed97-44c4-ab1e-e2718f2519d8"
      },
      "outputs": [
        {
          "output_type": "stream",
          "name": "stdout",
          "text": [
            "Overwriting ch01.cpp\n"
          ]
        }
      ],
      "source": [
        "%%writefile ch01.cpp\n",
        "\n",
        "#include <iostream>\n",
        "using namespace std;\n",
        "\n",
        "int main(){\n",
        "  for(int i = 12; i >= 1; i--){\n",
        "    cout << i << endl;\n",
        "  }\n",
        "\n",
        "  return 0;\n",
        "}"
      ]
    },
    {
      "cell_type": "code",
      "execution_count": 4,
      "metadata": {
        "colab": {
          "base_uri": "https://localhost:8080/"
        },
        "id": "yDWR0pLZPZks",
        "outputId": "dda226d3-25c4-499b-df3d-3a7a0b3285b9"
      },
      "outputs": [
        {
          "output_type": "stream",
          "name": "stdout",
          "text": [
            "12\n",
            "11\n",
            "10\n",
            "9\n",
            "8\n",
            "7\n",
            "6\n",
            "5\n",
            "4\n",
            "3\n",
            "2\n",
            "1\n"
          ]
        }
      ],
      "source": [
        "!g++ -std=c++17 ch01.cpp -o ch01\n",
        "!./ch01"
      ]
    },
    {
      "cell_type": "markdown",
      "metadata": {
        "id": "25ccfGzOMfal"
      },
      "source": [
        "## The `while` loop\n",
        "The `while` loop is the most general loop of all three. It takes the following form:\n",
        "\n",
        "```c++\n",
        "// For repeating a single statement\n",
        "while(test)\n",
        "  Statement;\n",
        "```\n",
        "or\n",
        "```c++\n",
        "// For repeating one or more statements\n",
        "while(test){\n",
        "  Statement(s);\n",
        "}\n",
        "```\n",
        "\n",
        "It keeps running until the test condition is `false`. Here are a few example `while` loops. Compare these examples to those of the `for` loop."
      ]
    },
    {
      "cell_type": "code",
      "execution_count": null,
      "metadata": {
        "colab": {
          "base_uri": "https://localhost:8080/"
        },
        "id": "091QmZ3XMfam",
        "outputId": "0022592e-8775-427c-e640-7ae50d3ca078"
      },
      "outputs": [
        {
          "output_type": "stream",
          "name": "stdout",
          "text": [
            "Writing ex03.cpp\n"
          ]
        }
      ],
      "source": [
        "%%writefile ex03.cpp\n",
        "\n",
        "#include <iostream>\n",
        "using namespace std;\n",
        "\n",
        "int main(){\n",
        "\n",
        "  // Counting up\n",
        "  int i = 0;\n",
        "  while(i < 10){\n",
        "    cout << i;\n",
        "    i++;\n",
        "  }\n",
        "  cout << endl;\n",
        "\n",
        "  int k = 0;\n",
        "  while(k < 4){\n",
        "    cout << \"Hi\\n\";\n",
        "    k++;\n",
        "  }\n",
        "\n",
        "  // Counting down\n",
        "  int j = 9;\n",
        "  while(j >= 0){\n",
        "    cout << j;\n",
        "    j--;\n",
        "  }\n",
        "\n",
        "  return 0;\n",
        "}"
      ]
    },
    {
      "cell_type": "code",
      "execution_count": null,
      "metadata": {
        "colab": {
          "base_uri": "https://localhost:8080/"
        },
        "id": "taQfCoHuPcGc",
        "outputId": "d05c35c7-66f9-4d73-8b05-ef1ff265903f"
      },
      "outputs": [
        {
          "output_type": "stream",
          "name": "stdout",
          "text": [
            "0123456789\n",
            "Hi\n",
            "Hi\n",
            "Hi\n",
            "Hi\n",
            "9876543210"
          ]
        }
      ],
      "source": [
        "!g++ -std=c++17 ex03.cpp -o ex03\n",
        "!./ex03"
      ]
    },
    {
      "cell_type": "markdown",
      "metadata": {
        "id": "MoHKxTLjkWS4"
      },
      "source": [
        "Both the `for` and the `while` loops are **pre-test** loops, meaning that the conditions are evaluated before every iteration."
      ]
    },
    {
      "cell_type": "markdown",
      "metadata": {
        "id": "3sVcT0FhlBa5"
      },
      "source": [
        "## CODING CHALLENGE 2\n",
        "\n",
        "Replace the `for` loop in the program below with a `while` loop. Make sure the program still works the same."
      ]
    },
    {
      "cell_type": "code",
      "execution_count": 15,
      "metadata": {
        "colab": {
          "base_uri": "https://localhost:8080/"
        },
        "id": "8QMweKZQkazw",
        "outputId": "c1d44c46-da87-45c8-9aae-f99551c6b22d"
      },
      "outputs": [
        {
          "output_type": "stream",
          "name": "stdout",
          "text": [
            "Overwriting ch02.cpp\n"
          ]
        }
      ],
      "source": [
        "%%writefile ch02.cpp\n",
        "\n",
        "#include <iostream>\n",
        "using namespace std;\n",
        "\n",
        "int main(){\n",
        "  int j = 20;\n",
        "\n",
        "  while(j > 0){\n",
        "    cout << j << \": \" << j * 5 << endl;\n",
        "    j-=2;\n",
        "  }\n",
        "\n",
        "  return 0;\n",
        "}"
      ]
    },
    {
      "cell_type": "code",
      "execution_count": 16,
      "metadata": {
        "colab": {
          "base_uri": "https://localhost:8080/"
        },
        "id": "8iaLAlXHkaXL",
        "outputId": "c82c0e91-302f-4a6a-c9d0-4649b55414ff"
      },
      "outputs": [
        {
          "output_type": "stream",
          "name": "stdout",
          "text": [
            "20: 100\n",
            "18: 90\n",
            "16: 80\n",
            "14: 70\n",
            "12: 60\n",
            "10: 50\n",
            "8: 40\n",
            "6: 30\n",
            "4: 20\n",
            "2: 10\n"
          ]
        }
      ],
      "source": [
        "!g++ -std=c++17 ch02.cpp -o ch02\n",
        "!./ch02"
      ]
    },
    {
      "cell_type": "markdown",
      "metadata": {
        "id": "7eSrxg2nk7nd"
      },
      "source": []
    },
    {
      "cell_type": "markdown",
      "metadata": {
        "id": "FPRTXEWtMfam"
      },
      "source": [
        "\n",
        "\n",
        "## The `do-while` loop\n",
        "This loop is similar to the `while` loop with one exception: it guarantees that its statement(s) will run at least once. It takes the following form:\n",
        "\n",
        "```c++\n",
        "// For repeating a single statement\n",
        "do\n",
        "  Statement;\n",
        "while(condition);\n",
        "```\n",
        "or\n",
        "\n",
        "```c++\n",
        "// For repeating one or more statements\n",
        "do{\n",
        "  Statement(s);\n",
        "} while(test);\n",
        "```\n",
        "Here are a few example `do-while` loops. Again compare these examples to those of the `while` and the `for` loops."
      ]
    },
    {
      "cell_type": "code",
      "execution_count": null,
      "metadata": {
        "colab": {
          "base_uri": "https://localhost:8080/"
        },
        "id": "Ryb6vvvpMfam",
        "outputId": "209d9877-84fa-4847-ba7e-7a585df26bf9"
      },
      "outputs": [
        {
          "output_type": "stream",
          "name": "stdout",
          "text": [
            "Writing ex04.cpp\n"
          ]
        }
      ],
      "source": [
        "%%writefile ex04.cpp\n",
        "\n",
        "#include <iostream>\n",
        "using namespace std;\n",
        "\n",
        "int main(){\n",
        "\n",
        "  // Counting up\n",
        "  int i = 0;\n",
        "  do{\n",
        "    cout << i;\n",
        "    i++;\n",
        "  } while(i < 10);\n",
        "  cout << endl;\n",
        "\n",
        "  int k = 0;\n",
        "  do{\n",
        "    cout << \"Hi\\n\";\n",
        "    k++;\n",
        "  } while(k < 4);\n",
        "\n",
        "  // Counting down\n",
        "  int j = 9;\n",
        "  do{\n",
        "    cout << j;\n",
        "    j--;\n",
        "  } while(j >= 0);\n",
        "\n",
        "  return 0;\n",
        "}"
      ]
    },
    {
      "cell_type": "code",
      "execution_count": null,
      "metadata": {
        "colab": {
          "base_uri": "https://localhost:8080/"
        },
        "id": "tp_FuFePPfL-",
        "outputId": "b5d74ded-11bc-4ece-e7d8-c8e401072d58"
      },
      "outputs": [
        {
          "output_type": "stream",
          "name": "stdout",
          "text": [
            "0123456789\n",
            "Hi\n",
            "Hi\n",
            "Hi\n",
            "Hi\n",
            "9876543210"
          ]
        }
      ],
      "source": [
        "!g++ -std=c++17 ex04.cpp -o ex04\n",
        "!./ex04"
      ]
    },
    {
      "cell_type": "markdown",
      "metadata": {
        "id": "T6mcSfwdMfan"
      },
      "source": [
        "**Notice that** while the curly braces `{` and `}` are only required when the body of any of these `for`, `while` and `do while` loops contains more than one statement, it's highly recommended that you use them all the time.\n",
        "\n",
        "Notice also that, unlike the `for` and `while` loops, the `do while` loop is a **post-test** loop; the condition is evaluated after every iteration.\n",
        "\n",
        "## Using `setw` to organize output into tables\n",
        "The code cell below attempts to generate a data table like this:\n",
        "\n",
        "| x | 2 * x | 3 * x | 4 * x | 5 * x |\n",
        "| - | ----- | ----- | ----- | ----- |\n",
        "| 1 | 2     | 3     | 4     | 5     |\n",
        "| 2 | 4     | 6     | 8     | 10    |\n",
        "| 3 | 6     | 9     | 12    | 15    |\n",
        "| 4 | 8     | 12    | 16    | 20    |\n",
        "| 5 | 10    | 15    | 20    | 25    |"
      ]
    },
    {
      "cell_type": "code",
      "execution_count": null,
      "metadata": {
        "colab": {
          "base_uri": "https://localhost:8080/"
        },
        "id": "sYhwtKQjMfan",
        "outputId": "852732f6-42f4-4e6a-ba1d-e1e68a6a8b21"
      },
      "outputs": [
        {
          "output_type": "stream",
          "name": "stdout",
          "text": [
            "Writing ex05.cpp\n"
          ]
        }
      ],
      "source": [
        "%%writefile ex05.cpp\n",
        "\n",
        "#include <iostream>\n",
        "using namespace std;\n",
        "\n",
        "int main(){\n",
        "  cout << \"x\" << \"2*x\" << \"3*x\" << \"4*x\" << \"5*x\" << endl;\n",
        "  for(int x = 1; x <= 5; x++){\n",
        "    cout << x;\n",
        "    for(int y = 2; y <= 5; y++){\n",
        "        cout << x * y;\n",
        "    }\n",
        "\n",
        "    cout << endl;\n",
        "  }\n",
        "\n",
        "  return 0;\n",
        "}"
      ]
    },
    {
      "cell_type": "code",
      "execution_count": null,
      "metadata": {
        "colab": {
          "base_uri": "https://localhost:8080/"
        },
        "id": "nMQfqgfiQOW3",
        "outputId": "debc9213-f75f-4d24-8c66-4fb6bc72c847"
      },
      "outputs": [
        {
          "output_type": "stream",
          "name": "stdout",
          "text": [
            "x2*x3*x4*x5*x\n",
            "12345\n",
            "246810\n",
            "3691215\n",
            "48121620\n",
            "510152025\n"
          ]
        }
      ],
      "source": [
        "!g++ -std=c++17 ex05.cpp -o ex05\n",
        "!./ex05"
      ]
    },
    {
      "cell_type": "markdown",
      "metadata": {
        "id": "KPLs3j9VMfan"
      },
      "source": [
        "The output above has the correct data; but it does not look like a table; it lacks the proper spacing. Instead of spacing the data manually, we can use `setw` to do that. All we have to do is:\n",
        "* include the `<iomanip>` header file\n",
        "* determine the width of each column by coming up with width numbers that we think would make the table look nice\n",
        "* call `setw` before displaying any text or number and pass it the width of the column that text or number belongs to\n",
        "\n",
        "By doing this, `setw` will take care of the spacing for us. Here the same code as before but with `setw`."
      ]
    },
    {
      "cell_type": "code",
      "execution_count": 21,
      "metadata": {
        "colab": {
          "base_uri": "https://localhost:8080/"
        },
        "id": "ncf-xMhkMfan",
        "outputId": "ce59da5f-dc5a-4339-c4ac-c1ffd6c60736"
      },
      "outputs": [
        {
          "output_type": "stream",
          "name": "stdout",
          "text": [
            "Writing ex06.cpp\n"
          ]
        }
      ],
      "source": [
        "%%writefile ex06.cpp\n",
        "\n",
        "#include <iostream>\n",
        "#include <iomanip>\n",
        "\n",
        "using namespace std;\n",
        "\n",
        "int main(){\n",
        "  cout << setw(4) << \"x\" << setw(6) << \"2*x\" << setw(6) <<\"3*x\" << setw(6) <<\"4*x\" << setw(6) << \"5*x\" << endl;\n",
        "  for(int x = 1; x <= 5; x++){\n",
        "    cout << setw(4) << x;\n",
        "    for(int y = 2; y <= 5; y++){\n",
        "        cout << setw(6) << x * y;\n",
        "    }\n",
        "\n",
        "    cout << endl;\n",
        "  }\n",
        "\n",
        "  return 0;\n",
        "}"
      ]
    },
    {
      "cell_type": "code",
      "execution_count": 22,
      "metadata": {
        "colab": {
          "base_uri": "https://localhost:8080/"
        },
        "id": "L1qtuXsKQQT3",
        "outputId": "676fa2c5-1c60-4b8b-d0db-29a7e3e07db6"
      },
      "outputs": [
        {
          "output_type": "stream",
          "name": "stdout",
          "text": [
            "   x   2*x   3*x   4*x   5*x\n",
            "   1     2     3     4     5\n",
            "   2     4     6     8    10\n",
            "   3     6     9    12    15\n",
            "   4     8    12    16    20\n",
            "   5    10    15    20    25\n"
          ]
        }
      ],
      "source": [
        "!g++ -std=c++17 ex06.cpp -o ex06\n",
        "!./ex06"
      ]
    },
    {
      "cell_type": "markdown",
      "metadata": {
        "id": "zjIWblXPMfao"
      },
      "source": [
        "Now, that looks like a table. Notice that we called `setw` before displaying each value and that we passed the width of the column as an argument to `setw`. *In this example, the first column is 4-spaces wide and all the remaining columns are 6-spaces wide each*. Play with different column widths.\n",
        "\n",
        "Notice also:\n",
        "* how each row in this table has the same number of columns;\n",
        "* the same column has the width in every row; and\n",
        "* we use `endl` to terminate a row."
      ]
    },
    {
      "cell_type": "markdown",
      "metadata": {
        "id": "fwrqvCapMfao"
      },
      "source": [
        "## CODING CHALLENGE 3\n",
        "Replace the `for` loop in the program below with a `do-while` loop. Make sure the program still works the same."
      ]
    },
    {
      "cell_type": "code",
      "execution_count": 17,
      "metadata": {
        "colab": {
          "base_uri": "https://localhost:8080/"
        },
        "id": "Uj-uB4oMMfao",
        "outputId": "ce3190a4-bb38-45fa-daa8-c52545434a1d"
      },
      "outputs": [
        {
          "output_type": "stream",
          "name": "stdout",
          "text": [
            "Writing ch03.cpp\n"
          ]
        }
      ],
      "source": [
        "%%writefile ch03.cpp\n",
        "\n",
        "#include <iostream>\n",
        "using namespace std;\n",
        "\n",
        "int main(){\n",
        "  int j = 20;\n",
        "\n",
        "  do{\n",
        "    cout << j << \": \" << j * 5 << endl;\n",
        "    j -= 2;\n",
        "  }while(j > 0);\n",
        "\n",
        "  return 0;\n",
        "}"
      ]
    },
    {
      "cell_type": "code",
      "execution_count": 18,
      "metadata": {
        "colab": {
          "base_uri": "https://localhost:8080/"
        },
        "id": "88MWiLxrm5CC",
        "outputId": "887d0a05-590e-45b1-f389-2da40f6ae970"
      },
      "outputs": [
        {
          "output_type": "stream",
          "name": "stdout",
          "text": [
            "20: 100\n",
            "18: 90\n",
            "16: 80\n",
            "14: 70\n",
            "12: 60\n",
            "10: 50\n",
            "8: 40\n",
            "6: 30\n",
            "4: 20\n",
            "2: 10\n"
          ]
        }
      ],
      "source": [
        "!g++ -std=c++17 ch03.cpp -o ch03\n",
        "!./ch03"
      ]
    },
    {
      "cell_type": "markdown",
      "metadata": {
        "id": "wBwk-ThBpDZK"
      },
      "source": [
        "# Decisions"
      ]
    },
    {
      "cell_type": "markdown",
      "metadata": {
        "id": "9rwihqkuMfao"
      },
      "source": [
        "## The `if-else` statement\n",
        "\n",
        "C++, like other languages supports the `if-else` conditional statement(s). If you only care about when a condition is `true`, then use the `if` conditional statement which looks like this:\n",
        "\n",
        "``` c++\n",
        "// if with a single statement.\n",
        "if(condition)\n",
        "  Statement;\n",
        "```\n",
        "or\n",
        "```c++\n",
        "// if with one or more statements.\n",
        "if(condition){\n",
        "  Statement(s);\n",
        "}\n",
        "```\n",
        "\n",
        "However, if you have a different logic for when the condition is `true` from that when is `false`, then use the `if-else` conditional statement which looks like this:\n",
        "``` c++\n",
        "// if-else with a single statement.\n",
        "if(condition)\n",
        "  Statement;\n",
        "else\n",
        "  Statement;\n",
        "```\n",
        "or\n",
        "```c++\n",
        "// if-else with one or more statements.\n",
        "if(condition){\n",
        "  Statement(s);\n",
        "}else{\n",
        "  Statement(s);\n",
        "}\n",
        "```\n",
        "\n",
        "Here is an example of finding the minimum of two entered numbers."
      ]
    },
    {
      "cell_type": "code",
      "execution_count": null,
      "metadata": {
        "colab": {
          "base_uri": "https://localhost:8080/"
        },
        "id": "JkjtesXcMfap",
        "outputId": "b03507c1-3d5f-47a4-a173-8a5b0049e884"
      },
      "outputs": [
        {
          "output_type": "stream",
          "name": "stdout",
          "text": [
            "Writing ex07.cpp\n"
          ]
        }
      ],
      "source": [
        "%%writefile ex07.cpp\n",
        "\n",
        "#include <iostream>\n",
        "using namespace std;\n",
        "\n",
        "int main(){\n",
        "  double x, y;\n",
        "  cout << \"Enter two decimal members: \";\n",
        "  cin >> x >> y;\n",
        "\n",
        "  if(y > x){\n",
        "    cout << \"Minimum: \" << x << endl;\n",
        "  }else{\n",
        "    cout << \"Minimum: \" << y << endl;\n",
        "  }\n",
        "\n",
        "  return 0;\n",
        "}"
      ]
    },
    {
      "cell_type": "code",
      "execution_count": null,
      "metadata": {
        "colab": {
          "base_uri": "https://localhost:8080/"
        },
        "id": "eQGWJBiInRg1",
        "outputId": "6583d17f-ddb4-4ca6-8ba0-417f36ceb5ca"
      },
      "outputs": [
        {
          "output_type": "stream",
          "name": "stdout",
          "text": [
            "Enter two decimal members: 3.7 2.2\n",
            "Minimum: 2.2\n"
          ]
        }
      ],
      "source": [
        "!g++ -std=c++17 ex07.cpp -o ex07\n",
        "!./ex07"
      ]
    },
    {
      "cell_type": "markdown",
      "metadata": {
        "id": "VwdlhdJLMfap"
      },
      "source": [
        "And if we want to display the results in a table-like format like:\n",
        "\n",
        "|  x  |  y  | Minimum |\n",
        "| --- | --- | ------- |\n",
        "| 4.5 | 3.9 | 3.9     |\n",
        "\n",
        "we use `setw` like this:"
      ]
    },
    {
      "cell_type": "code",
      "execution_count": 23,
      "metadata": {
        "colab": {
          "base_uri": "https://localhost:8080/"
        },
        "id": "usmARsfJMfap",
        "outputId": "a91c3ec7-52b1-4827-ecdf-9334ee954c58"
      },
      "outputs": [
        {
          "output_type": "stream",
          "name": "stdout",
          "text": [
            "Overwriting ex08.cpp\n"
          ]
        }
      ],
      "source": [
        "%%writefile ex08.cpp\n",
        "\n",
        "#include <iostream>\n",
        "#include <iomanip>\n",
        "\n",
        "using namespace std;\n",
        "\n",
        "int main(){\n",
        "  double x, y;\n",
        "\n",
        "  cout << \"Enter two decimal members: \";\n",
        "  cin >> x >> y;\n",
        "\n",
        "  cout << setw(9) << \"x\" << setw(9) << \"y\" << setw(12) << \"Minimum\" << endl;\n",
        "  cout << setw(9) << x << setw(9) << y;\n",
        "  if(y > x){\n",
        "    cout << setw(12) << x << endl;\n",
        "  }else{\n",
        "    cout << setw(12) << y << endl;\n",
        "  }\n",
        "\n",
        "  return 0;\n",
        "}"
      ]
    },
    {
      "cell_type": "code",
      "execution_count": 24,
      "metadata": {
        "colab": {
          "base_uri": "https://localhost:8080/"
        },
        "id": "vohjYxCVnYxh",
        "outputId": "d7998dd8-19a4-41d4-ff93-6abc4470dbfe"
      },
      "outputs": [
        {
          "output_type": "stream",
          "name": "stdout",
          "text": [
            "Enter two decimal members: .2 .22\n",
            "        x        y     Minimum\n",
            "      0.2     0.22         0.2\n"
          ]
        }
      ],
      "source": [
        "!g++ -std=c++17 ex08.cpp -o ex08\n",
        "!./ex08"
      ]
    },
    {
      "cell_type": "code",
      "execution_count": null,
      "metadata": {
        "id": "Ny7G3Q6BogI6"
      },
      "outputs": [],
      "source": []
    },
    {
      "cell_type": "markdown",
      "metadata": {
        "id": "i_RXueKnMfap"
      },
      "source": [
        "**Notice also that** while the curly braces `{` and `}` are only required when the body of `if` or `else` contains more than one statement, it's highly recommended that you use them all the time.\n",
        "\n",
        "## CODING CHALLENGE 4\n",
        "Change the program below so that it displays both the minimum and maximum nicely formatted in a table like this:\n",
        "\n",
        "|  x  |  y  | Minimum | Maximum |\n",
        "| --- | --- | ------- | ------- |\n",
        "| 4.5 | 3.9 | 3.9     | 4.5    |"
      ]
    },
    {
      "cell_type": "code",
      "execution_count": 27,
      "metadata": {
        "colab": {
          "base_uri": "https://localhost:8080/"
        },
        "id": "OsgCs1eoMfap",
        "outputId": "970eb72d-32c8-49ed-f250-765099c41720"
      },
      "outputs": [
        {
          "output_type": "stream",
          "name": "stdout",
          "text": [
            "Overwriting ch04.cpp\n"
          ]
        }
      ],
      "source": [
        "%%writefile ch04.cpp\n",
        "\n",
        "#include <iostream>\n",
        "#include <iomanip>\n",
        "using namespace std;\n",
        "\n",
        "int main(){\n",
        "  double x, y;\n",
        "  cout << \"Enter two decimal members: \";\n",
        "  cin >> x >> y;\n",
        "\n",
        "  cout << setw(9) << \"x\" << setw(9) << \"y\" << setw(12) << \"Minimum\" <<  setw(12) << \"Maximum\" << endl;\n",
        "  cout << setw(9) << x << setw(9) << y;\n",
        "\n",
        "  if(y > x){\n",
        "    cout << setw(12) << x << setw(12) << y << endl;\n",
        "  }else{\n",
        "     cout << setw(12) << y << setw(12) << x << endl;\n",
        "  }\n",
        "\n",
        "  return 0;\n",
        "}"
      ]
    },
    {
      "cell_type": "code",
      "execution_count": 28,
      "metadata": {
        "colab": {
          "base_uri": "https://localhost:8080/"
        },
        "id": "HfPHa-hsnaPo",
        "outputId": "e554c2b8-67de-4a42-9194-cdfeede9cf00"
      },
      "outputs": [
        {
          "output_type": "stream",
          "name": "stdout",
          "text": [
            "Enter two decimal members: 5.2 2.89\n",
            "        x        y     Minimum     Maximum\n",
            "      5.2     2.89        2.89         5.2\n"
          ]
        }
      ],
      "source": [
        "!g++ -std=c++17 ch04.cpp -o ch04\n",
        "!./ch04"
      ]
    },
    {
      "cell_type": "markdown",
      "metadata": {
        "id": "dEZ6kpdQMfaq"
      },
      "source": [
        "## The `if-else-if` statement\n",
        "Sometimes you have more than one condition to evaluate in the same statement. In this case we use the `if-else-if` conditional statement which looks like the following:\n",
        "\n",
        "``` c++\n",
        "// if-else-if with a single statement.\n",
        "if(condition1)\n",
        "  Statement;\n",
        "else if(condition2)\n",
        "  Statement;\n",
        "else\n",
        "  Statement;\n",
        "```\n",
        "or\n",
        "```c++\n",
        "// if-else-if with one or more statements.\n",
        "if(condition1){\n",
        "  Statement(s);\n",
        "}else if(condition2){\n",
        "  Statement(s);\n",
        "}else{\n",
        "  Statement(s);\n",
        "}\n",
        "```\n",
        "\n",
        "Every `if-else-if` statement has:\n",
        "* a required `if` clause at the beginning;\n",
        "* an optional `else` clause at the end; and\n",
        "* one or more `else if` clauses in between.\n",
        "\n",
        "Here is an example of using multiple `else if` clauses to display the name of day based on an entered number between 1 and 7 with 1 representing Sunday, 2 Monday, and so on."
      ]
    },
    {
      "cell_type": "code",
      "execution_count": null,
      "metadata": {
        "colab": {
          "base_uri": "https://localhost:8080/"
        },
        "id": "ZS-qo7LiMfaq",
        "outputId": "230ef383-7ccb-49dd-c952-255999ffc3a2",
        "scrolled": false
      },
      "outputs": [
        {
          "output_type": "stream",
          "name": "stdout",
          "text": [
            "Writing ex09.cpp\n"
          ]
        }
      ],
      "source": [
        "%%writefile ex09.cpp\n",
        "\n",
        "#include <iostream>\n",
        "\n",
        "using namespace std;\n",
        "\n",
        "int main(){\n",
        "  int day;\n",
        "  cout << \"Enter a day number (between 1 and 7):\" << endl;\n",
        "  cin >> day;\n",
        "\n",
        "  if (day == 1){ cout << \"Sunday\"; }\n",
        "  else if (day == 2){ cout << \"Monday\"; }\n",
        "  else if (day == 3){ cout << \"Tuesday\"; }\n",
        "  else if (day == 4){ cout << \"Wednesday\"; }\n",
        "  else if (day == 5){ cout << \"Thursday\"; }\n",
        "  else if (day == 6){ cout << \"Friday\"; }\n",
        "  else if (day == 7){ cout << \"Saturday\"; }\n",
        "  else { cout << \"invalid day\"; }\n",
        "\n",
        "  return 0;\n",
        "}"
      ]
    },
    {
      "cell_type": "code",
      "execution_count": null,
      "metadata": {
        "colab": {
          "base_uri": "https://localhost:8080/"
        },
        "id": "HeCgXD0rncvx",
        "outputId": "0b4ba109-4ff1-48ce-a68d-a5c1725d1d02"
      },
      "outputs": [
        {
          "output_type": "stream",
          "name": "stdout",
          "text": [
            "Enter a day number (between 1 and 7):\n",
            "4\n",
            "Wednesday"
          ]
        }
      ],
      "source": [
        "!g++ -std=c++17 ex09.cpp -o ex09\n",
        "!./ex09"
      ]
    },
    {
      "cell_type": "markdown",
      "metadata": {
        "id": "luKa_f6PMfaq"
      },
      "source": [
        "## CODING CHALLENGE 5\n",
        "Copy the code above to the code cell below and use `setw` to refactor it to display the results in a two-column table like this:\n",
        "\n",
        "| Day Number |  Day Name    |\n",
        "| --- | -------- |\n",
        "| 3   | Tuesday  |"
      ]
    },
    {
      "cell_type": "code",
      "execution_count": 35,
      "metadata": {
        "colab": {
          "base_uri": "https://localhost:8080/"
        },
        "id": "X8WR4RL6Mfar",
        "outputId": "8661d165-72f3-4c97-f093-650010bf95e0"
      },
      "outputs": [
        {
          "output_type": "stream",
          "name": "stdout",
          "text": [
            "Overwriting ch05.cpp\n"
          ]
        }
      ],
      "source": [
        "%%writefile ch05.cpp\n",
        "\n",
        "#include <iostream>\n",
        "#include <iomanip>\n",
        "using namespace std;\n",
        "\n",
        "int main(){\n",
        "  int day;\n",
        "  cout << \"Enter a day number (between 1 and 7):\" << endl;\n",
        "  cin >> day;\n",
        "\n",
        "  cout << setw(15) << \"day number\" << setw(13) << \"day name\"<< endl;\n",
        "  cout << setw(15) << day;\n",
        "  if (day == 1){ cout << setw(13) << \"Sunday\"; }\n",
        "  else if (day == 2){ cout << setw(13) << \"Monday\"; }\n",
        "  else if (day == 3){ cout << setw(13) <<\"Tuesday\"; }\n",
        "  else if (day == 4){ cout << setw(13) << \"Wednesday\"; }\n",
        "  else if (day == 5){ cout << setw(13) <<\"Thursday\"; }\n",
        "  else if (day == 6){ cout << setw(13) <<\"Friday\"; }\n",
        "  else if (day == 7){ cout << setw(13) <<\"Saturday\"; }\n",
        "  else { cout << \"invalid day\"; }\n",
        "\n",
        "  return 0;\n",
        "}"
      ]
    },
    {
      "cell_type": "code",
      "execution_count": 36,
      "metadata": {
        "colab": {
          "base_uri": "https://localhost:8080/"
        },
        "id": "Oq2wBUKyne1F",
        "outputId": "0130ef9b-c2f3-4eb1-f908-86a7922159a9"
      },
      "outputs": [
        {
          "output_type": "stream",
          "name": "stdout",
          "text": [
            "Enter a day number (between 1 and 7):\n",
            "5\n",
            "     day number     day name\n",
            "              5     Thursday"
          ]
        }
      ],
      "source": [
        "!g++ -std=c++17 ch05.cpp -o ch05\n",
        "!./ch05"
      ]
    },
    {
      "cell_type": "markdown",
      "metadata": {
        "id": "cBqXPl0eMfar"
      },
      "source": [
        "## The `switch` statement\n",
        "C++ also supports the `switch` statement which chooses statements to run from a small number of possibilities based on the value of a given variable. It takes the following form:\n",
        "\n",
        "``` c++\n",
        "switch(variable){\n",
        "case value1:\n",
        "\tStatement(s);\n",
        "\tbreak;\n",
        "case value2:\n",
        "\tStatement(s);\n",
        "\tbreak;\n",
        "//...\n",
        "default:\n",
        "\tStatement(s);\n",
        "}\n",
        "```\n",
        "\n",
        "Notice the `break` statement at the end of every case; without such a statement a case will fall through (bleeds) to the next.\n",
        "\n",
        "It's important to remember that:\n",
        "* not all variables can be used with the switch statement: only integer (`int`, `short`, `long`) or character (`char`) variables can.\n",
        "* the `default` case is optional; it has a similar meaning to that of `else` in the `if-else` conditional statement; and it does not require the `break` statement.\n",
        "* braces `{` and `}` should not be used around the statement(s) of these cases."
      ]
    },
    {
      "cell_type": "code",
      "execution_count": null,
      "metadata": {
        "colab": {
          "base_uri": "https://localhost:8080/"
        },
        "id": "RApNmwEYMfas",
        "outputId": "a4337409-865e-498c-941f-a85c963d2cf0"
      },
      "outputs": [
        {
          "output_type": "stream",
          "name": "stdout",
          "text": [
            "Writing ex10.cpp\n"
          ]
        }
      ],
      "source": [
        "%%writefile ex10.cpp\n",
        "\n",
        "#include <iostream>\n",
        "\n",
        "using namespace std;\n",
        "\n",
        "int main(){\n",
        "  int day;\n",
        "  cout << \"Enter a day number(between 1 and 7):\" << endl;\n",
        "  cin >> day;\n",
        "  switch(day){\n",
        "  case 1:\n",
        "      cout << \"Sunday\"; break;\n",
        "  case 2:\n",
        "      cout << \"Monday\"; break;\n",
        "  case 3:\n",
        "      cout << \"Tuesday\"; break;\n",
        "  case 4:\n",
        "      cout << \"Wednesday\"; break;\n",
        "  case 5:\n",
        "      cout << \"Thursday\"; break;\n",
        "  case 6:\n",
        "      cout << \"Friday\"; break;\n",
        "  case 7:\n",
        "      cout << \"Saturday\"; break;\n",
        "  default:\n",
        "      cout << \"invalid day\";\n",
        "  }\n",
        "\n",
        "  return 0;\n",
        "}"
      ]
    },
    {
      "cell_type": "code",
      "execution_count": null,
      "metadata": {
        "colab": {
          "base_uri": "https://localhost:8080/"
        },
        "id": "Hre3wuJsnixO",
        "outputId": "c3c1de75-11ad-4479-9149-345035347b5f"
      },
      "outputs": [
        {
          "output_type": "stream",
          "name": "stdout",
          "text": [
            "Enter a day number(between 1 and 7):\n",
            "4\n",
            "Wednesday"
          ]
        }
      ],
      "source": [
        "!g++ -std=c++17 ex10.cpp -o ex10\n",
        "!./ex10"
      ]
    },
    {
      "cell_type": "markdown",
      "metadata": {
        "id": "2ipLqamNMfas"
      },
      "source": [
        "Any `switch` statement can be written as an `if-else-if` statement. For example, the above `switch` statement, has the following equivalent `if-else-if` statement.\n",
        "\n",
        "```cpp\n",
        "int day;\n",
        "\n",
        "cout << \"Enter a day number(between 1 and 7):\" << endl;\n",
        "cin >> day;\n",
        "\n",
        "if (day == 1){\n",
        "    cout << \"Sunday\";\n",
        "} else if (day == 2){\n",
        "    cout << \"Monday\";\n",
        "} else if (day == 3){\n",
        "    cout << \"Tuesday\";\n",
        "} else if (day == 4){\n",
        "    cout << \"Wednesday\";\n",
        "} else if (day == 5){\n",
        "    cout << \"Thursday\";\n",
        "} else if (day == 6){\n",
        "    cout << \"Friday\"; }\n",
        "else if (day == 7){\n",
        "    cout << \"Saturday\";\n",
        "} else {\n",
        "    cout << \"invalid day\";\n",
        "}\n",
        "```"
      ]
    },
    {
      "cell_type": "markdown",
      "metadata": {
        "id": "-fhCg9BsMfat"
      },
      "source": [
        "## CODING CHALLENGE 6\n",
        "Re-write the following program so as to use a `switch` statement.\n"
      ]
    },
    {
      "cell_type": "code",
      "execution_count": 39,
      "metadata": {
        "colab": {
          "base_uri": "https://localhost:8080/"
        },
        "id": "MUlleXPsrtrR",
        "outputId": "56a87ca8-e1f2-4a17-cab0-461d2380d9e7"
      },
      "outputs": [
        {
          "output_type": "stream",
          "name": "stdout",
          "text": [
            "Overwriting ch06.cpp\n"
          ]
        }
      ],
      "source": [
        "%%writefile ch06.cpp\n",
        "\n",
        "#include <iostream>\n",
        "\n",
        "using namespace std;\n",
        "\n",
        "int main(){\n",
        "  char answer;\n",
        "  cout << \"Are you OK? Type y for yes and n for No\" << endl;\n",
        "  cin >> answer;\n",
        "\n",
        "  switch(answer){\n",
        "    case 'y':\n",
        "      cout << \"You're OK!\" << endl; break;\n",
        "    default:\n",
        "      cout << \"You're NOT OK!\" << endl; break;\n",
        "  }\n",
        "\n",
        "  return 0;\n",
        "}"
      ]
    },
    {
      "cell_type": "code",
      "execution_count": 40,
      "metadata": {
        "colab": {
          "base_uri": "https://localhost:8080/"
        },
        "id": "tV4bW7yFMfat",
        "outputId": "562366b2-0c6d-4b00-bd9b-3a09b8b9494c"
      },
      "outputs": [
        {
          "output_type": "stream",
          "name": "stdout",
          "text": [
            "Are you OK? Type y for yes and n for No\n",
            "k\n",
            "You're NOT OK!\n"
          ]
        }
      ],
      "source": [
        "!g++ -std=c++17 ch06.cpp -o ch06\n",
        "!./ch06"
      ]
    }
  ],
  "metadata": {
    "colab": {
      "provenance": [],
      "toc_visible": true
    },
    "kernelspec": {
      "display_name": "Python 3",
      "name": "python3"
    },
    "language_info": {
      "name": "python"
    }
  },
  "nbformat": 4,
  "nbformat_minor": 0
}